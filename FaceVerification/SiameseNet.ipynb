{
  "cells": [
    {
      "cell_type": "markdown",
      "metadata": {
        "id": "view-in-github",
        "colab_type": "text"
      },
      "source": [
        "<a href=\"https://colab.research.google.com/github/ThOpaque/HomeMade_FaceID/blob/dev_SiameseModel2/SiameseNet.ipynb\" target=\"_parent\"><img src=\"https://colab.research.google.com/assets/colab-badge.svg\" alt=\"Open In Colab\"/></a>"
      ]
    },
    {
      "cell_type": "markdown",
      "metadata": {
        "id": "WiSJdTCGBT4z"
      },
      "source": [
        "# Where should we start ?\n",
        "\n",
        "What we are trying to do here is called *face verification*. I insist on the term *verification* since you will find a lot of misleading articles on the internet, were *recognition* and *verification* are used both to describe the same problem. \\\n",
        "Here, we are talking about *verification* that is, verified that a person is the expected person (*is it this person ?*). One refers to this type of problem as a 1:1 problem i.e. two faces are shown to the model and it should be able to assert if they belong to the same person or not. One can find this type of application on the Apple iPhone FaceID for instance with a \"training phase\" when you use it for the first time to specialized the algorithm with your face. Also, one can find this application in some airport where we are invited to present our passport to the AI so it can verify if we are indeed the person on the passport photo.\n",
        "\n",
        "At the contrary, a *face recognition* problem is a 1:K problem : the model tries to find if a person is a member of its database. It involves a representative dataset for each member and a certain flexibility since we expect that the model should handle a new person whithout retraining it from scratch. One can find this type of application in some company entrence for instance.\n",
        "\n",
        "Here, we are trying to unlock a computer with the administrator face. Since no one else will be authorized to unlock the session, it's a face verification 1:1 problem."
      ]
    },
    {
      "cell_type": "markdown",
      "metadata": {
        "id": "Cp-iE0iiCzpk"
      },
      "source": [
        "# What should the model do ?\n",
        "Instinctively we know the model should authorized one specific person and rejects all different. To achive this, we'll use the technique of *one shot learning* with *Siamese Networks* which is a very efficient technique for face verification."
      ]
    },
    {
      "cell_type": "markdown",
      "metadata": {
        "id": "yAcMhtN00cqf"
      },
      "source": [
        "## Siamese Networks\n",
        "The main principle behind Siamese Networks is to use the *same* model with the *same* parameters to classify two images. Two images are fed to networks that share parameters with the exact same structure (hence the model's name) and then, the raw outputs (called embeddings) are compared. In practice, this can be achieve by doing two forward passes with the same model *before* backpropagate and update the model parameters. With the appropriate loss function, the model will hopefully learn the similarity between the two images. \n",
        "\n",
        "[images siamese net]"
      ]
    },
    {
      "cell_type": "markdown",
      "metadata": {
        "id": "Oe5PI8BsD74m"
      },
      "source": [
        "## One Shot Learning\n",
        "You'll find many articles about One Shot Learning on the internet but I am going to explain it briefly. \n",
        "\n",
        "One Shot Learning is the idea in which classification or categorization tasks can be achieved with one or a few examples to classify many new examples. Back to our problem, an image of the administrator will be given to the model (it's the *anchor*) and then, the model should be capable to classify any image regarding this anchor (this is the same person or it is not). \n",
        "\n",
        "Technically, the model will *encode* the image as an *embedding vector* of d-dimension (e.g. 128). That is, any embedding image will be place in a n-dimensional Euclidean space and will belong to a specific location such that (luckily) similar identities should be close to each others, and different identities will be found far apart.  \n",
        "\n",
        "[images MNIST t-SNE]\n",
        "\n",
        "\n",
        "This method is called *one shot learning* since it does not involve *a priori* any extra training when using another anchor. However, in the case of transfer learning, a few training steps are needed to converge to the right distribution i.e. to make the model understand the context (will it be net and clean image with good luminosity ? Does the luminosity may vary ? will it be webcam photos with poor quality ? etc...).\n",
        "\n",
        "\n",
        "__Note__ : this adding training steps are needed either in the case of transfer learning (since one model is trained with various milion of images and then no particular distribution), or simply to improve the model's accuracy regarding the anchor in the case of face verification for example. "
      ]
    },
    {
      "cell_type": "markdown",
      "metadata": {
        "id": "GU_l2IFL90zS"
      },
      "source": [
        "# Loading librairies"
      ]
    },
    {
      "cell_type": "code",
      "execution_count": null,
      "metadata": {
        "colab": {
          "base_uri": "https://localhost:8080/"
        },
        "id": "tIIyZOLW6T8Z",
        "outputId": "b49d2782-e572-431b-c807-25e3e7a2a7a8"
      },
      "outputs": [
        {
          "name": "stdout",
          "output_type": "stream",
          "text": [
            "Mounted at /content/drive\n"
          ]
        }
      ],
      "source": [
        "from google.colab import drive\n",
        "drive.mount('/content/drive')"
      ]
    },
    {
      "cell_type": "code",
      "execution_count": 25,
      "metadata": {
        "colab": {
          "base_uri": "https://localhost:8080/"
        },
        "id": "aWVYaTUZ6bKB",
        "outputId": "7eeefc2b-fda9-4f5c-b83e-4ed118996a47"
      },
      "outputs": [
        {
          "output_type": "stream",
          "name": "stdout",
          "text": [
            "Note: you may need to restart the kernel to use updated packages.\n",
            "Note: you may need to restart the kernel to use updated packages.\n",
            "\n",
            "------------------------------------\n",
            "Execute notebook on -mps-\n",
            "------------------------------------\n",
            "\n"
          ]
        }
      ],
      "source": [
        "### Python modules\n",
        "import os\n",
        "import numpy as np\n",
        "import glob\n",
        "import random as rd\n",
        "import pandas as pd\n",
        "import pickle\n",
        "import datetime\n",
        "\n",
        "### PyTorch modules\n",
        "import torch\n",
        "import torch.nn as nn\n",
        "from torch.utils.data import DataLoader\n",
        "from torch.utils.data import Dataset\n",
        "\n",
        "%pip install torchinfo --quiet\n",
        "from torchinfo import summary\n",
        "\n",
        "### Preprocessing modules\n",
        "from PIL import Image\n",
        "import torchvision\n",
        "import torchvision.transforms\n",
        "\n",
        "### External module : FaceNet\n",
        "%pip install facenet-pytorch --quiet\n",
        "from facenet_pytorch import InceptionResnetV1, MTCNN\n",
        "\n",
        "### Define the current device\n",
        "#device = torch.device('cuda') if torch.cuda.is_available() else torch.device('cpu') #for Colab GPU\n",
        "device = torch.device('mps') if torch.backends.mps.is_available() else torch.device('cpu') #for Mac M1 chips\n",
        "print(\"\\n------------------------------------\")\n",
        "print(f\"Execute notebook on -{device}-\")\n",
        "print(\"------------------------------------\\n\")"
      ]
    },
    {
      "cell_type": "markdown",
      "metadata": {
        "id": "iPMkLjWQC62n"
      },
      "source": [
        "# Building the dataset"
      ]
    },
    {
      "cell_type": "markdown",
      "metadata": {
        "id": "uH3aoMNVHeIM"
      },
      "source": [
        "## How to structure the dataset ?\n",
        "In this notebook, we'll use a pretrained model called FaceNet. Since this model has been trained on million person faces, it could already give us pretty good results. However, as mentionned earlier, it is wise to modify and train the last layers of the model to specialize it on the distribution of images that it might enconters (i.e. webcam images here).\n",
        "\n",
        "So, we need a dataset class who retrives labeled images. That is, retrives images with an associated label where 1 is for \"same person as the administrator\" and 0 for \"different person as the administrator\". Those are respectively called *Positive* and *Negative* images. \n",
        "\n",
        "We create a `SiameseDataset` class which will be used to construct our training set. It is composed of 5 extra attributs required to completly define a class instance :\n",
        "\n",
        "*   `PN_df` corresponds to a Pandas DataFrame containing same and different labelised administrator's faces (1 for same, 0 for different) ;\n",
        "*   `val_stride` & `isValSet_bool` are used to separate the training set to the validation set and make sure that there is no data leaks between them ;\n",
        "*   `isAugment_bool` is used to specify the kind of transformation applied to an image in order to diversify the distribution ;\n",
        "*   `isNormalize_bool` is used to normalize the images by their own mean/std values.\n"
      ]
    },
    {
      "cell_type": "code",
      "execution_count": 26,
      "metadata": {
        "id": "qxnDNJYi9soN"
      },
      "outputs": [],
      "source": [
        "class SiameseDataset(Dataset):\n",
        "    def __init__(self, df:pd.DataFrame, val_stride:int=0, isValSet_bool:bool=None, isAugment_bool:bool=False, isNormalize_bool:bool=False)->tuple:\n",
        "        \n",
        "        self.isNormalize_bool = isNormalize_bool\n",
        "        self.isAugment_bool = isAugment_bool\n",
        "        self.PN_df = df\n",
        "\n",
        "        if isValSet_bool:\n",
        "            assert val_stride > 0, 'val_stride argument must be greater than 0'\n",
        "            self.PN_df = self.PN_df[::val_stride]\n",
        "            self.PN_df = self.PN_df.reset_index(drop=True)\n",
        "        elif val_stride > 0:\n",
        "            self.PN_df = self.PN_df.drop(self.PN_df.index[::val_stride])\n",
        "            self.PN_df = self.PN_df.reset_index(drop=True)\n",
        "\n",
        "    def _preprocess(self, img_t:torch.Tensor)->torch.Tensor:\n",
        "        ### Resizing\n",
        "        if type(img_t) is Image.Image:\n",
        "            img_t = torchvision.transforms.ToTensor()(img_t)\n",
        "        transform = torchvision.transforms.Compose([torchvision.transforms.Resize((160,160))])\n",
        "        img_t = transform(img_t)\n",
        "\n",
        "        ### Data augmentation\n",
        "        if self.isAugment_bool:\n",
        "            augment = torchvision.transforms.Compose([\n",
        "                torchvision.transforms.RandomHorizontalFlip(p=0.5),\n",
        "                torchvision.transforms.ColorJitter(brightness=[0.5,1], contrast=[1,1.2], saturation=[0,1]),\n",
        "                torchvision.transforms.RandomAdjustSharpness(12, p=0.7),\n",
        "                torchvision.transforms.RandomRotation(degrees=5)\n",
        "                ])\n",
        "            img_t = augment(img_t)\n",
        "        \n",
        "        ### Normalize data\n",
        "        if self.isNormalize_bool:\n",
        "            mean, std = img_t.mean(), img_t.std()\n",
        "            img_t = (img_t - mean) / std\n",
        "\n",
        "        return img_t\n",
        "\n",
        "    def __len__(self):\n",
        "        return self.PN_df.shape[0]\n",
        "    \n",
        "    def __getitem__(self, idx)->tuple:\n",
        "        if torch.is_tensor(idx):\n",
        "            idx = idx.tolist()\n",
        "\n",
        "        img_t = self.PN_df['Images'][idx]\n",
        "        image = self._preprocess(img_t)\n",
        "\n",
        "        label = self.PN_df['Labels'][idx]\n",
        "        \n",
        "        return image, torch.tensor(label, dtype=torch.int32)\n"
      ]
    },
    {
      "cell_type": "markdown",
      "metadata": {
        "id": "2zw6-mPZpftD"
      },
      "source": [
        "## Composition of the dataset\n",
        "As mentioned earlier, we need \"negative\" faces for this project. I've decided to randomly select 500 images from the [\"Labeled Faces in the Wild\" database](http://vis-www.cs.umass.edu/lfw/) (note that I chose aligned faces with funneling). The positive images are photos of myself captured in such a way that various face positions are represented (I replaced my face by a cartoon face for the example). \n",
        "\n",
        "I may call positive images \"*calibration images*\" since they are used to calibrate the model to a specific distribution (i.e. specific context)."
      ]
    },
    {
      "cell_type": "markdown",
      "metadata": {
        "id": "qZjp4lfErKey"
      },
      "source": [
        "![notme.gif](data:image/gif;base64,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)![me.gif](data:image/gif;base64,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)\n",
        "\n"
      ]
    },
    {
      "cell_type": "code",
      "execution_count": 3,
      "metadata": {
        "colab": {
          "base_uri": "https://localhost:8080/"
        },
        "id": "7Igv95blAwb_",
        "outputId": "f7744f20-76e4-41c8-f08d-428a97fbb10d"
      },
      "outputs": [
        {
          "output_type": "stream",
          "name": "stdout",
          "text": [
            "Set of PIL images that is not the administrator identity, lenght : 650\n",
            "--------\n",
            "Set of calibration PIL images corresponding to the administrator identity, lenght : 150\n",
            "--------\n"
          ]
        }
      ],
      "source": [
        "#main_path = \"/content/drive/MyDrive/Colab Notebooks/face_verification\"\n",
        "main_path = \"/Users/thierryksstentini/Downloads\"\n",
        "\n",
        "### Loading PIL images from lfw dataset\n",
        "with open(main_path+'/dataset/dataset_augmented/lfw_PIL.pkl', 'rb') as pkl:\n",
        "    PIL_imgs_notme = pickle.load(pkl)\n",
        "PIL_imgs_notme = rd.sample(PIL_imgs_notme, 650)\n",
        "\n",
        "### Loading paths of calibration images and converting to PIL images \n",
        "path_imgs_me_calibration = glob.glob(main_path+'/dataset/dataset_calibration2/*.jpg')\n",
        "# path_imgs_me_calibration = glob.glob(main_path+'/dataset/dataset_moi_mbp_cropped/*.jpg')\n",
        "PIL_imgs_me_calibration = [Image.open(k).convert('RGB') for k in path_imgs_me_calibration]\n",
        "\n",
        "print(f\"Set of PIL images that is not the administrator identity, lenght : {len(PIL_imgs_notme)}\")\n",
        "print(\"--------\")\n",
        "print(f\"Set of calibration PIL images corresponding to the administrator identity, lenght : {len(PIL_imgs_me_calibration)}\")\n",
        "print(\"--------\")"
      ]
    },
    {
      "cell_type": "markdown",
      "metadata": {
        "id": "WX1kei0MsNSB"
      },
      "source": [
        "## Cropping faces\n",
        "The one-shot learning method is pretty capricious and one be carefull to compare faces with a minimum of background informations (and control the risk of cutting essential parts of a face such as hair, beard, ears...). Here, we implement a function which uses the [MTCNN module](https://arxiv.org/abs/1604.02878) for face detection. This module is really helpfull since it detects faces and returns bounding boxes using a cascaded framework (GitHub repo [here](https://github.com/timesler/facenet-pytorch) for MTCNN migration from TensorFlow to PyTorch)."
      ]
    },
    {
      "cell_type": "code",
      "execution_count": null,
      "metadata": {
        "id": "ECAaFlFvCBPc"
      },
      "outputs": [],
      "source": [
        "def detect_faces(PIL_imgs:list, device:torch.device)->list:\n",
        "    \"\"\"Preprocessing function that detects faces and returns a cropped PyTorch tensor.\n",
        "    It also prevents various exceptions caused by face detection failure or\n",
        "    misliding coordinates with negative values. \n",
        "\n",
        "    -------------------\n",
        "    Parameters:\n",
        "        PIL_imgs: list\n",
        "            The list of PIL images to crop.\n",
        "        device: torch.device. Default 'cpu'\n",
        "            Basically cuda, mps or cpu.\n",
        "    -------------------\n",
        "    Returns:\n",
        "        imgs_crop: list of torch.Tensor \n",
        "            List of the cropped images resized by (160x160).\n",
        "    \"\"\"\n",
        "    imgs_crop = []\n",
        "    count_TypeError = 0\n",
        "    count_RuntimeError = 0\n",
        "\n",
        "    for it, img in enumerate(PIL_imgs):\n",
        "        try : \n",
        "            ### Get bounding boxes coordinates\n",
        "            mtcnn = MTCNN(device=device)\n",
        "            x1, y1, x2, y2 = mtcnn.detect(img)[0][0]\n",
        "\n",
        "            ### Set to zero if coordinates are outside the frame\n",
        "            x1, y1 = max(0, int(x1)), max(0, int(y1))\n",
        "            x2, y2 = int(x2), int(y2)\n",
        "\n",
        "            img_t = torchvision.transforms.ToTensor()(img).to(device)\n",
        "            img_t = img_t[:,y1:y2, x1:x2]\n",
        "\n",
        "        ### Raises an exception if no face is detected\n",
        "        except TypeError:\n",
        "            img_t = None\n",
        "            count_TypeError += 1\n",
        "        else :\n",
        "            try :\n",
        "                img_t = torchvision.transforms.Resize((160,160))(img_t)\n",
        "                imgs_crop.append(img_t)\n",
        "            except RuntimeError:\n",
        "                count_RuntimeError += 1\n",
        "\n",
        "        ############ Result display part #################\n",
        "        if it == 0 or it%100==0 or it==len(PIL_imgs)-1:\n",
        "            print(f\"Iteration : {it+1}/{len(PIL_imgs)}\")\n",
        "    print(f\"END : Got {len(imgs_crop)}/{len(PIL_imgs)} images.\")\n",
        "    print(f\"Number of TypeError : {count_TypeError} \\nNumber of RuntimeError : {count_RuntimeError}\")\n",
        "    return imgs_crop"
      ]
    },
    {
      "cell_type": "code",
      "execution_count": null,
      "metadata": {
        "id": "F3tUtWZeCBBX"
      },
      "outputs": [],
      "source": [
        "print('Cropping positive images')\n",
        "PIL_imgs_me_crop_calibration = detect_faces(PIL_imgs_me_calibration, device)\n",
        "print('---------------------')\n",
        "print('\\nCropping negative images')\n",
        "PIL_imgs_notme_crop = detect_faces(PIL_imgs_notme, device)"
      ]
    },
    {
      "cell_type": "markdown",
      "metadata": {
        "id": "NuKvogzj00Bd"
      },
      "source": [
        "## Building training and validation datasets\n",
        "The calibration phase should be as quick as possible to provide a user friendly interaction with the app. This means that only a small amount of images should be recorded.\\\n",
        "In this example, I recorded 150 images of myself and it renders only 119 operable results after the cropping phase. \n",
        "\n",
        "To bypass this lack of data, I chose to augment my dataset by duplicate those 119 images 3 times and then, perform random shifting on image pixels (data augmentation). Doing so makes it possible to increase the positive image number and then reducing data unbalance (357 positives vs 500 negatives).\n",
        "\n",
        "This step is handled by the `preprocess` method of the `SiameseDataset` class.\n",
        "\n",
        "Note that a randomization is performed on the dataset *before* turning the database into a dataset (i.e. not in the `SiameseDataset` class). By doing so, it prevents data leaking when creating training and validation sets as instances of the `SiameseDataset` class."
      ]
    },
    {
      "cell_type": "code",
      "execution_count": null,
      "metadata": {
        "id": "zcemWh0d952U"
      },
      "outputs": [],
      "source": [
        "### Duplicate data\n",
        "# PIL_imgs = PIL_imgs_me_crop_calibration + PIL_imgs_me_crop_calibration + PIL_imgs_me_crop_calibration + PIL_imgs_notme_crop\n",
        "\n",
        "PIL_imgs_me_crop_calibration = PIL_imgs_me_calibration \n",
        "PIL_imgs_notme_crop = PIL_imgs_notme\n",
        "PIL_imgs = PIL_imgs_me_calibration + PIL_imgs_notme\n",
        "\n",
        "#PIL_imgs = [k.to('cpu') for k in PIL_imgs]\n",
        "\n",
        "### Creating label vectors (1 for positive faces and 0 for negatives)\n",
        "label_P = np.full(len(PIL_imgs_me_crop_calibration), 1)\n",
        "label_N = np.full(len(PIL_imgs_notme_crop), 0)\n",
        "labels = np.concatenate((label_P, label_N))\n",
        "\n",
        "### Pandas DataFrame and randomization\n",
        "df_PIL = pd.DataFrame({'Images':PIL_imgs, 'Labels':labels})\n",
        "df_PIL = df_PIL.sample(frac=1).reset_index(drop=True)\n",
        "\n",
        "len(PIL_imgs), len(df_PIL)"
      ]
    },
    {
      "cell_type": "code",
      "execution_count": 27,
      "metadata": {
        "id": "7MeLnIRo1Gx6"
      },
      "outputs": [],
      "source": [
        "###################\n",
        "### Loading pre-saved dataset\n",
        "load = True\n",
        "if load :\n",
        "    main_path = \"/Users/thierryksstentini/Downloads\"\n",
        "    with open(main_path + '/dataset/calibration_set_moi&pasmoi_len619_crop.pkl', 'rb') as pkl :\n",
        "        df_PIL = pickle.load(pkl)\n",
        "###################"
      ]
    },
    {
      "cell_type": "markdown",
      "metadata": {
        "id": "jOj-oxMzHTN3"
      },
      "source": [
        "## Creating sets"
      ]
    },
    {
      "cell_type": "code",
      "execution_count": 7,
      "metadata": {
        "colab": {
          "base_uri": "https://localhost:8080/"
        },
        "id": "FbOOAOwZLOVO",
        "outputId": "d7f45e3b-cbef-46ae-adbe-fee5212a04bc"
      },
      "outputs": [
        {
          "output_type": "execute_result",
          "data": {
            "text/plain": [
              "(464, 155)"
            ]
          },
          "metadata": {},
          "execution_count": 7
        }
      ],
      "source": [
        "BATCH_SIZE = 128\n",
        "siameseDataset_train = SiameseDataset(df=df_PIL, val_stride=4, isValSet_bool=False, isNormalize_bool=True, isAugment_bool=True)\n",
        "siameseDataset_test = SiameseDataset(df=df_PIL, val_stride=4, isValSet_bool=True, isNormalize_bool=True, isAugment_bool=True) ### WARNING : avant on avait isAugment_bool = True !!\n",
        "\n",
        "\n",
        "train_dataloader = DataLoader(siameseDataset_train, batch_size=BATCH_SIZE, shuffle=True)\n",
        "val_dataloader = DataLoader(siameseDataset_test, batch_size=BATCH_SIZE, shuffle=True) ### Warning : avant = shuffle = True\n",
        "\n",
        "len(siameseDataset_train), len(siameseDataset_test)"
      ]
    },
    {
      "cell_type": "markdown",
      "metadata": {
        "id": "Ko1QV3YVDCFh"
      },
      "source": [
        "# Creating a custom loss function"
      ]
    },
    {
      "cell_type": "markdown",
      "metadata": {
        "id": "BXnBrDiC9G2k"
      },
      "source": [
        "## Triplet mining & Batch-All Triplet Loss\n",
        "The method used to compute the loss is \"Batch-All triplets\". I reuse a triplet mining method from the incredibly clever work of [Olivier Moindrot](https://https://omoindrot.github.io/triplet-loss) (see how he uses broadcasting) and basically rewrite it into a `nn.Module` PyTorch.\n",
        "\n",
        "As explained earlier, the dataset is composed of positive and negative images so, a *triplet* will be composed of an *anchor image*, a *positive* and a *negative* one. This will be used to compute the so called *Triplet Loss* :\n",
        "\n",
        "\\begin{equation}\n",
        "    L = max( \\lVert{AP}\\rVert - \\lVert{AN}\\rVert + \\alpha, 0)\n",
        "\\end{equation}\n",
        "\n",
        "With :\n",
        "\n",
        "*   A, P, N -- respectively the anchor, positive and negative image embeddings\n",
        "*   $\\lVert{.}\\rVert$ -- L2 norm\n",
        "*   $\\alpha$ -- a margin\n",
        "\n",
        "When minimizing this loss, $\\lVert{AP}\\rVert$ is pushed towards 0 and $\\lVert{AN}\\rVert$ grows to be greater than $\\lVert{AP}\\rVert+\\alpha$. When $N$ is an \"easy negative\" (i.e. obvious wrong face), the loss is zero.\n",
        "\n",
        "From [In Defense of the Triplet Loss for Person Re-Identification](https://arxiv.org/abs/1703.07737), [Olivier Moindrot](https://omoindrot.github.io/triplet-loss) explains the following about triplet mining :\n",
        "\n",
        "\n",
        "> Based on the definition of the loss, there are three categories of triplets:\n",
        "\n",
        "> * __Easy triplets__: triplets which have a loss of 0, because $\\lVert{AP}\\rVert+\\alpha < \\lVert{AN}\\rVert$\n",
        "\n",
        "> * __Hard triplets__: triplets where the negative is closer to the anchor than the positive, i.e. $\\lVert{AN}\\rVert < \\lVert{AP}\\rVert$\n",
        "\n",
        "> * __Semi-hard triplets__: triplets where the negative is not closer to the anchor than the positive, but still have positive loss : $\\lVert{AP}\\rVert < \\lVert{AN}\\rVert < \\lVert{AN}\\rVert+\\alpha$\n",
        "\n",
        "> *Each of these definitions depend on where the negative is, relatively to the anchor and positive. We can therefore extend these three categories to the negatives : __hard negatives__, __semi-hard negatives__ or __easy negatives__.*\n",
        "\n",
        "The \"Batch-All Triplet\" method will find all valid triplets in a batch : regarding all the positives, we select an anchor and construct a *valid* triplet (i,j,k) such as;\n",
        "* i, j and k must be distinct\n",
        "* label[i] equals label[j] (find a positive)\n",
        "* labels[i] differents from label[k] (find a negative)\n",
        "\n",
        "Then, *only those valid triplets* will feed the model.\n",
        "\n",
        "An other method of mining is the \"Batch Hard\" : for each anchor, we select the hardest positive (biggest distance A-P) and the hardest negative among the batch. \n",
        "\n",
        "According to the [paper](https://arxiv.org/abs/1703.07737), the batch hard strategy yields to the best performance. However it really depends on the dataset and a Batch-All method is chosen here for simplicity."
      ]
    },
    {
      "cell_type": "code",
      "execution_count": 8,
      "metadata": {
        "id": "lbxsjGh48DQP"
      },
      "outputs": [],
      "source": [
        "class BatchAllTripletLoss(nn.Module):\n",
        "    def __init__(self, margin:float, device:torch.device):\n",
        "        \"\"\"Compute the Batch All triplet loss method.\"\"\"\n",
        "        super(BatchAllTripletLoss, self).__init__()        \n",
        "        self.margin = margin\n",
        "        self.device = device\n",
        "\n",
        "    def _pairwise_distances(self, embeddings:torch.Tensor)->torch.Tensor:  \n",
        "        \"\"\"Compute the 2D matrix of distances between all the embeddings.\n",
        "\n",
        "        -------------------\n",
        "        Parameters:\n",
        "            embeddings: torch.Tensor of shape (batch_size, embed_dim)\n",
        "        -------------------\n",
        "        Returns:\n",
        "            imgs_crop: torch.Tensor of shape (batch_size, batch_size)\n",
        "        \"\"\"\n",
        "        embeddings = embeddings.to(torch.float)\n",
        "        distances = torch.cdist(embeddings, embeddings, p=2)\n",
        "        return distances\n",
        "\n",
        "    def _get_triplet_mask(self, labels:torch.Tensor)->torch.Tensor:\n",
        "        \"\"\"Return a 3D mask where mask[a, p, n] is True if the triplet (a, p, n) is valid.\n",
        "        A triplet (i, j, k) is valid if:\n",
        "            - i, j, k are distinct\n",
        "            - labels[i] == labels[j] and labels[i] != labels[k]\n",
        "\n",
        "        -------------------\n",
        "        Parameters:\n",
        "            labels: torch.int32 of shape (batch_size,)\n",
        "        -------------------\n",
        "        Returns:\n",
        "            mask: torch.Tensor of shape (batch_size, batch_size, batch_size)\n",
        "        \"\"\"\n",
        "        # Check that i, j and k are distinct\n",
        "        indices_equal = torch.eye(labels.shape[0]).to(torch.bool).to(self.device)\n",
        "        indices_not_equal = torch.logical_not(indices_equal)\n",
        "        i_not_equal_j = indices_not_equal.unsqueeze(2)\n",
        "        i_not_equal_k = indices_not_equal.unsqueeze(1)\n",
        "        j_not_equal_k = indices_not_equal.unsqueeze(0)\n",
        "\n",
        "        distinct_indices = torch.logical_and(torch.logical_and(i_not_equal_j, i_not_equal_k), j_not_equal_k)\n",
        "\n",
        "        # Check if labels[i] == labels[j] and labels[i] != labels[k]\n",
        "        label_equal = torch.eq(labels.unsqueeze(0), labels.unsqueeze(1))\n",
        "        i_equal_j = label_equal.unsqueeze(2)\n",
        "        i_equal_k = label_equal.unsqueeze(1)\n",
        "\n",
        "        valid_labels = torch.logical_and(i_equal_j, torch.logical_not(i_equal_k))\n",
        "\n",
        "        # Combine the two masks\n",
        "        mask = torch.logical_and(distinct_indices, valid_labels)\n",
        "        return mask\n",
        "\n",
        "    def forward(self, embeddings_pred:torch.Tensor, labels_target:torch.Tensor):\n",
        "        \"\"\"Forward method of the class. Build the triplet loss over a batch of \n",
        "        embeddings. All the valid triplets are generated and the loss is averaged \n",
        "        over the positive ones.\n",
        "\n",
        "        -------------------\n",
        "        Parameters:\n",
        "            labels: torch.Tensor of shape (batch_size,)\n",
        "                Labels of the batch\n",
        "            embeddings: torch.Tensor of shape (batch_size, embed_dim)\n",
        "                Embeddings of the batch\n",
        "        -------------------\n",
        "        Returns:\n",
        "            triplet_loss: torch.float, scalar \n",
        "                Contains the triplet loss of the batch\n",
        "            fraction_positive_triplets: flot, scalar\n",
        "                Contains the ratio of positive triplets in the batch\n",
        "        \"\"\"\n",
        "        # Get the pairwise distance matrix\n",
        "        pairwise_dist = self._pairwise_distances(embeddings_pred)\n",
        "\n",
        "        # shape (batch_size, batch_size, 1)\n",
        "        anchor_positive_dist = pairwise_dist.unsqueeze(2)\n",
        "        assert anchor_positive_dist.shape[2] == 1, \"{}\".format(anchor_positive_dist.shape)\n",
        "        # shape (batch_size, 1, batch_size)\n",
        "        anchor_negative_dist = pairwise_dist.unsqueeze(1)\n",
        "        assert anchor_negative_dist.shape[1] == 1, \"{}\".format(anchor_negative_dist.shape)\n",
        "\n",
        "        # triplet_loss[i, j, k] will contain the triplet loss of anchor=i, positive=j, negative=k\n",
        "        triplet_loss = anchor_positive_dist - anchor_negative_dist + self.margin\n",
        "\n",
        "        # Put to zero the invalid triplets\n",
        "        # (where label(a) != label(p) or label(n) == label(a) or a == p)\n",
        "        mask = self._get_triplet_mask(labels_target).to(torch.float)\n",
        "        triplet_loss = torch.multiply(mask, triplet_loss)\n",
        "\n",
        "        # Remove negative losses (i.e. the easy triplets)\n",
        "        triplet_loss = torch.maximum(triplet_loss, torch.tensor(0.0))\n",
        "        \n",
        "        # Count number of positive triplets (where triplet_loss > 0)\n",
        "        valid_triplets = torch.gt(triplet_loss, 1e-16).to(torch.float)\n",
        "        num_positive_triplets = torch.sum(valid_triplets)\n",
        "        num_valid_triplets = torch.sum(mask)\n",
        "        fraction_positive_triplets = num_positive_triplets / (num_valid_triplets + 1e-16)\n",
        "\n",
        "        # Get final mean triplet loss over the positive valid triplets\n",
        "        triplet_loss = torch.sum(triplet_loss) / (num_positive_triplets + 1e-16)\n",
        "\n",
        "        return triplet_loss, fraction_positive_triplets"
      ]
    },
    {
      "cell_type": "markdown",
      "metadata": {
        "id": "9y7rduL8BP_m"
      },
      "source": [
        "# Building the model\n",
        "We are using a version of the FaceNet model described in this [paper](https://arxiv.org/abs/1503.03832). It's an Inception ResNet model, pretrained on VGGFace2 and CASIA-Webface. The Tim Esler's [implementation](https://github.com/timesler/facenet-pytorch) in PyTorch is used, where the model weights were initialized using parameters ported from David Sandberg's [work](https://github.com/davidsandberg/facenet).\n",
        "\n",
        "The model can be used for classification (face recognition) or not. In the later case, it outputs a *normalized embedding* of (512,1) dimension."
      ]
    },
    {
      "cell_type": "markdown",
      "metadata": {
        "id": "YopYCnryCu8j"
      },
      "source": [
        "## Customizing the model\n",
        "For the purpuse of this work, several tries led me to modify the top layers of the model. In the litterature, outputting a (128,1) normalized vector seems to be a good start. So, I kept the whole `InceptionResnetV1` pretrained model, got rid of the last **batch norm** and **linear** layers and add a **smooth** dimensional decrease with linear layers until a **(128,1) normalized output** vector.\n",
        "\n",
        "**Note** : in one-shot learning, it's a common way to compare L2-normalized embeddings."
      ]
    },
    {
      "cell_type": "code",
      "execution_count": 15,
      "metadata": {
        "id": "X3pDyrxV6dKg"
      },
      "outputs": [],
      "source": [
        "class SiameseNet(nn.Module):\n",
        "    def __init__(self):\n",
        "        \"\"\"Custom the FaceNet InceptionResnetV1 model.\n",
        "        \"\"\"\n",
        "        super(SiameseNet, self).__init__()\n",
        "        self.FaceNetModif_seq1 = nn.Sequential(*list(InceptionResnetV1(pretrained='casia-webface').children())[:-3])\n",
        "        self.FaceNetModif_seq2 = nn.Sequential(\n",
        "            nn.Flatten(),\n",
        "            nn.Linear(1792, 512, bias=True),\n",
        "            nn.Linear(512, 256, bias=True),\n",
        "            nn.Linear(256,128, bias=True),\n",
        "            #nn.Linear(1792, 128, bias=True),\n",
        "            nn.BatchNorm1d(128, eps=0.001, momentum=0.1, affine=True)\n",
        "        )\n",
        "    def forward(self, input:torch.Tensor)->torch.Tensor:\n",
        "        \"\"\"Forward method of the model.\n",
        "\n",
        "        -------------------\n",
        "        Parameters:\n",
        "            x: torch.Tensor of shape (batch_size, channels, height, width)\n",
        "                Batch of the tensor images\n",
        "        -------------------\n",
        "        Returns:\n",
        "            x: torch.Tensor of shape (batch_size, 128)\n",
        "                Batch of embeddings as the predictions of the model\n",
        "        \"\"\"\n",
        "        x = self.FaceNetModif_seq1(input)\n",
        "        x = self.FaceNetModif_seq2(x)\n",
        "        return x"
      ]
    },
    {
      "cell_type": "markdown",
      "metadata": {
        "id": "MUiPURH1XmFp"
      },
      "source": [
        "## Using pretrained model & optimization\n",
        "As explained above, we use a pretrained model on the [VGGFace2](https://arxiv.org/abs/1710.08092) database which is consistent with our goal here. Only the added linear layers are not freezed to train them on the administrator's face dataset. \n",
        "\n",
        "Adam optimization is used with a learning rate `lr=0.005`. The number of epochs is defined regarding previous training sessions as `num_epochs = 50`."
      ]
    },
    {
      "cell_type": "code",
      "execution_count": 19,
      "metadata": {
        "id": "cHd5OTC0AKsd"
      },
      "outputs": [],
      "source": [
        "device = 'cpu'\n",
        "\n",
        "### Creating the model and cast to device\n",
        "model_custom = SiameseNet().to(device)\n",
        "\n",
        "### Freezing all pretrained layers\n",
        "for param in model_custom.FaceNetModif_seq1.parameters():\n",
        "    param.requires_grad = False\n",
        "\n",
        "margin = 0.1\n",
        "triplet_loss = BatchAllTripletLoss(margin=margin, device=device)\n",
        "optimizer = torch.optim.Adam(model_custom.parameters(), lr=0.005)\n",
        "num_epochs = 25"
      ]
    },
    {
      "cell_type": "markdown",
      "metadata": {
        "id": "FzMxhn6dZyEX"
      },
      "source": [
        "# Training loop\n",
        "Note : the margin $\\alpha$ `margin = 0.1` is set regarding previous training sessions. \n"
      ]
    },
    {
      "cell_type": "code",
      "source": [
        "anchor_base = Image.open('/Users/thierryksstentini/Downloads/dataset/anchors/frame_base_cropped.jpeg').convert('RGB')\n",
        "anchor_base = torchvision.transforms.ToTensor()(anchor_base)\n",
        "anchor_base = torchvision.transforms.Resize((160,160))(anchor_base)\n",
        "def Normalize(img_t):\n",
        "    mean, std = img_t.mean(), img_t.std()\n",
        "    img_t = (img_t - mean) / std\n",
        "    return img_t\n",
        "\n",
        "anchor_base = Normalize(anchor_base)"
      ],
      "metadata": {
        "id": "sOW8TzJwPD0X"
      },
      "execution_count": 13,
      "outputs": []
    },
    {
      "cell_type": "code",
      "source": [
        "imgs.shape"
      ],
      "metadata": {
        "id": "ZLvQ8uameupE",
        "outputId": "52c500b0-6efd-4fc0-be89-ddd899a38492",
        "colab": {
          "base_uri": "https://localhost:8080/"
        }
      },
      "execution_count": 17,
      "outputs": [
        {
          "output_type": "execute_result",
          "data": {
            "text/plain": [
              "torch.Size([128, 3, 160, 160])"
            ]
          },
          "metadata": {},
          "execution_count": 17
        }
      ]
    },
    {
      "cell_type": "code",
      "execution_count": null,
      "metadata": {
        "id": "Zsyo8xPkAKqH"
      },
      "outputs": [],
      "source": [
        "\n",
        "\n",
        "delta_time = datetime.timedelta(hours=1)\n",
        "timezone = datetime.timezone(offset=delta_time)\n",
        "#/Users/thierryksstentini/Downloads/dataset/anchors/frame_base_cropped.jpeg\n",
        "\n",
        "threshold = 0.5\n",
        "size_train = len(siameseDataset_train)\n",
        "ranger = range(num_epochs)\n",
        "\n",
        "#### For restart only ###########################\n",
        "RESTART = False\n",
        "\n",
        "if not RESTART :\n",
        "    train_loss_list = []\n",
        "else :\n",
        "    new_start = epoch+1\n",
        "    new_end = new_start + 20\n",
        "    ranger = range(new_start, new_end)\n",
        "    print(f\"[RESTART AT] : epoch = {new_start}\\n\")\n",
        "    print(\"-------------------------------\")\n",
        "###################################################\n",
        "\n",
        "\n",
        "\n",
        "#### Start time infos #############################\n",
        "t = datetime.datetime.now(tz=timezone)\n",
        "str_t = '{:%Y-%m-%d %H:%M:%S}'.format(t)\n",
        "print(f\"[START] : {str_t} :\")\n",
        "print(f\"[Training on] : {str(device).upper()}\")\n",
        "print(f\"[Optimizer] : \\n{optimizer}\")\n",
        "print(\"-------------------------------\")\n",
        "###################################################\n",
        "\n",
        "\n",
        "\n",
        "for epoch in ranger:\n",
        "    t = datetime.datetime.now(tz=timezone)\n",
        "    str_t = '{:%Y-%m-%d %H:%M:%S}'.format(t)\n",
        "    print(f\"{str_t} : Epoch {epoch+1} \\n-------------------------------\")\n",
        "    \n",
        "    train_loss = 0.0\n",
        "    train_accuracy = 0\n",
        "    for batch, (imgs, labels) in enumerate(train_dataloader):\n",
        "        model_custom.train()\n",
        "        lenimgs = len(imgs)\n",
        "\n",
        "        # Transfer Data to GPU if available\n",
        "        imgs, labels = imgs.to(device), labels.to(device)\n",
        "        \n",
        "        # Clear the gradients\n",
        "        optimizer.zero_grad()\n",
        "\n",
        "        # Make prediction \n",
        "        preds_embeddings = model_custom(imgs)\n",
        "        \n",
        "        # Compute the training loss with BatchAllTripletLoss method\n",
        "        loss, fraction_positive_triplets = triplet_loss(preds_embeddings, labels)        \n",
        "\n",
        "        # Compute the gradients\n",
        "        loss.backward()\n",
        "\n",
        "        # Update Weights\n",
        "        optimizer.step()\n",
        "\n",
        "        # Aggregate mini-batch training losses\n",
        "        train_loss += loss.item()\n",
        "        train_loss_list.append(train_loss)\n",
        "\n",
        "\n",
        "\n",
        "        count_P = 0\n",
        "        model_custom.eval()\n",
        "        with torch.no_grad():\n",
        "            anchor = anchor_base.unsqueeze(0).to(device)\n",
        "            anchor_emb = model_custom(anchor)\n",
        "        \n",
        "            for it in range(len(preds_embeddings)):\n",
        "                d1 = np.linalg.norm(anchor_emb.to('cpu') - preds_embeddings[it].to('cpu'))\n",
        "                label = labels[it]\n",
        "\n",
        "                if label == 1 and d1 < threshold:\n",
        "                    count_P += 1\n",
        "            acc = (count_P/BATCH_SIZE)*100\n",
        "\n",
        "        ### Print status #######################################################\n",
        "        if batch==0 or batch%(size_train//BATCH_SIZE):\n",
        "            loss_item = loss.item()\n",
        "            current = batch*BATCH_SIZE + lenimgs\n",
        "            print(f\"mini-batch loss for training : {loss_item:>7f}  [{current:>5d}/{size_train:>5d}]\")\n",
        "            print(f\"Fraction positive triplet in this batch : {fraction_positive_triplets*100:.3f}\")\n",
        "            print(f\"Train accuracy : {acc}%\")\n",
        "\n",
        "\n",
        "    \n",
        "    # Compute the global training & validation loss as the mean of the mini-batch losses\n",
        "    train_loss /= len(train_dataloader)\n",
        "    print(f\"--Fin Epoch {epoch+1}/{len(ranger)} \\n Training Loss: {train_loss:>7f}\" )\n",
        "    print('\\n')"
      ]
    },
    {
      "cell_type": "code",
      "execution_count": null,
      "metadata": {
        "id": "OJiIJv9uAKfV"
      },
      "outputs": [],
      "source": [
        "file_name = 'SiameseNet_calibrated2_12032022.pth'\n",
        "torch.save(model_custom.state_dict(), '/content/drive/MyDrive/Colab Notebooks/face_verification/model_pth/' + file_name)"
      ]
    },
    {
      "cell_type": "code",
      "execution_count": null,
      "metadata": {
        "colab": {
          "base_uri": "https://localhost:8080/",
          "height": 282
        },
        "id": "DJAveS3XAoQq",
        "outputId": "25bafb58-c758-4cf8-a189-cf2e6864b33a"
      },
      "outputs": [
        {
          "data": {
            "text/plain": [
              "<matplotlib.axes._subplots.AxesSubplot at 0x7f823022be10>"
            ]
          },
          "execution_count": 31,
          "metadata": {},
          "output_type": "execute_result"
        },
        {
          "data": {
            "image/png": "[encoded data removed]",
            "text/plain": [
              "<Figure size 432x288 with 1 Axes>"
            ]
          },
          "metadata": {
            "needs_background": "light"
          },
          "output_type": "display_data"
        }
      ],
      "source": [
        "loss_series = pd.Series(train_loss_list)\n",
        "loss_series.plot()"
      ]
    },
    {
      "cell_type": "markdown",
      "metadata": {
        "id": "nkFZ6kuu79b3"
      },
      "source": [
        "#Evaluate the model"
      ]
    },
    {
      "cell_type": "code",
      "execution_count": 50,
      "metadata": {
        "id": "K8Oiauv1mkuL"
      },
      "outputs": [],
      "source": [
        "model_custom = SiameseNet()"
      ]
    },
    {
      "cell_type": "code",
      "execution_count": 51,
      "metadata": {
        "id": "QNdp4aKWmh7n"
      },
      "outputs": [],
      "source": [
        "#model_custom.state_dict = torch.load('/content/drive/MyDrive/Colab Notebooks/face_verification/model_pth/SiameseNet_calibrated2_12032022.pth', map_location='cpu')\n",
        "model_custom.state_dict = torch.load(main_path + '/dataset/model_pth/SiameseNet_calibrated2_12032022.pth', map_location='cpu')\n",
        "\n",
        "model_custom.eval();"
      ]
    },
    {
      "cell_type": "code",
      "source": [
        "anchor_base = Image.open('/Users/thierryksstentini/Downloads/dataset/anchors/moi_ok.jpg').convert('RGB')\n",
        "anchor_base = torchvision.transforms.ToTensor()(anchor_base)\n",
        "anchor_base = torchvision.transforms.Resize((160,160))(anchor_base)\n",
        "def Normalize(img_t):\n",
        "    mean, std = img_t.mean(), img_t.std()\n",
        "    img_t = (img_t - mean) / std\n",
        "    return img_t\n",
        "\n",
        "anchor_base = Normalize(anchor_base)"
      ],
      "metadata": {
        "id": "yWwoAasHUsvd"
      },
      "execution_count": 126,
      "outputs": []
    },
    {
      "cell_type": "code",
      "source": [
        "threshold = 0.63\n",
        "\n",
        "count_TP = 0\n",
        "count_TN = 0\n",
        "count_FP = 0\n",
        "count_FN = 0\n",
        "count_P = 0\n",
        "count_N = 0\n",
        "\n",
        "d_FP = []\n",
        "d_FN = []\n",
        "\n",
        "\n",
        "model_custom = model_custom.to(device)\n",
        "for batch, (imgs, labels) in enumerate(train_dataloader):\n",
        "    imgs = imgs.to(device)\n",
        "    labels = labels.to(device)\n",
        "    with torch.no_grad():\n",
        "        anchor = anchor_base.unsqueeze(0).to(device)\n",
        "        anchor_emb = model_custom(anchor)\n",
        "        preds_embeddings = model_custom(imgs)\n",
        "\n",
        "        for it in range(len(preds_embeddings)):\n",
        "            d1 = np.linalg.norm(anchor_emb.to('cpu') - preds_embeddings[it].to('cpu'))\n",
        "            labels = labels.to('cpu')\n",
        "            if labels[it] == 1 and d1 < threshold:\n",
        "                count_P += 1\n",
        "                count_TP +=1\n",
        "            if labels[it] == 1 and  d1 >= threshold:\n",
        "                count_P += 1\n",
        "                count_FN += 1\n",
        "                d_FN.append(d1)\n",
        "\n",
        "            if labels[it] == 0 and d1 >= threshold:\n",
        "                count_N += 1\n",
        "                count_TN += 1\n",
        "            if labels[it] == 0 and d1 < threshold :\n",
        "                count_N += 1\n",
        "                count_FP += 1\n",
        "                d_FP.append(d1)\n",
        "\n",
        "    acc = (count_P/len(preds_embeddings))*100\n",
        "\n",
        "    ### Print status #######################################################\n",
        "    if batch==0 or batch%(size_train//BATCH_SIZE):\n",
        "        print(f\"Train accuracy : {acc}%\")"
      ],
      "metadata": {
        "id": "p-lc9AQYUss2",
        "outputId": "1654f273-63c1-45e0-84df-4c82137bab4f",
        "colab": {
          "base_uri": "https://localhost:8080/"
        }
      },
      "execution_count": 127,
      "outputs": [
        {
          "output_type": "stream",
          "name": "stdout",
          "text": [
            "Train accuracy : 15.625%\n",
            "Train accuracy : 37.5%\n",
            "Train accuracy : 55.46875%\n"
          ]
        }
      ]
    },
    {
      "cell_type": "code",
      "source": [
        "print(f\"Stats on VGG without norm with threshold : {threshold}\")\n",
        "print(f\"Nb positive : {count_P}\")\n",
        "print(f\"Nb Negative : {count_N}\")\n",
        "print(f\"TP : {count_TP/count_P *100:3.2f}%\")\n",
        "print(f\"TN : {count_TN/count_N *100:3.2f}%\")\n",
        "print(f\"FN : {count_FN/(count_P) * 100:3.2f}%\")\n",
        "print(f\"FP : {count_FP/(count_N) * 100:3.2f}%\")\n",
        "print(f\"The model accuracy is {(count_TP+count_TN)/(count_P+count_N) * 100:3.2f}%\")"
      ],
      "metadata": {
        "id": "0pvKZuFTUslT",
        "outputId": "ab598d6e-eacb-49e0-8e46-96ccb4d05e31",
        "colab": {
          "base_uri": "https://localhost:8080/"
        }
      },
      "execution_count": 128,
      "outputs": [
        {
          "output_type": "stream",
          "name": "stdout",
          "text": [
            "Stats on VGG without norm with threshold : 0.63\n",
            "Nb positive : 86\n",
            "Nb Negative : 378\n",
            "TP : 59.30%\n",
            "TN : 85.19%\n",
            "FN : 40.70%\n",
            "FP : 14.81%\n",
            "The model accuracy is 80.39%\n"
          ]
        }
      ]
    },
    {
      "cell_type": "code",
      "source": [
        ""
      ],
      "metadata": {
        "id": "Xzj3kf7GUsi-"
      },
      "execution_count": null,
      "outputs": []
    },
    {
      "cell_type": "code",
      "execution_count": 28,
      "metadata": {
        "id": "jICcG4UF6pxv"
      },
      "outputs": [],
      "source": [
        "def encoder(input, model:SiameseNet, device:torch.device, isCrop:bool=False, \n",
        "            doNormalize:bool=False, isPIL:bool=False)->torch.Tensor:\n",
        "    \"\"\"Encode an input image to an embedding of shape (128,1) using the trained \n",
        "    model.\n",
        "\n",
        "    -------------------\n",
        "    Parameters:\n",
        "        input: PIL.image, str or torch.Tensor\n",
        "            Input to encode into embeddings.\n",
        "        model: SiameseNet\n",
        "            Custo trained model based on the IncecptionResnetV1 model.\n",
        "        device: torch.device\n",
        "            The device on which to run matrice computations.\n",
        "        isCrop: bool, optionnal\n",
        "            Is the image cropped ?. Default is False.\n",
        "            If isCrop=True, the input should be a torch.Tensor already cropped.\n",
        "        doNormalize: bool, optionnal\n",
        "            Determines if the function must normalize the image or not. Default is False.\n",
        "        isPIL: bool, optionnal\n",
        "            Is the input a PIL image (True) ? Or a path (False) ?. Default is False.\n",
        "    -------------------\n",
        "    Returns:\n",
        "        embedding: torch.Tensor of shape (128,1)\n",
        "            Embedding of the input i.e. the encoding vector regarding the trained model.\n",
        "    \"\"\"\n",
        "    if not isCrop:\n",
        "        detector = MTCNN(device = device)\n",
        "        if isPIL is False:\n",
        "            PIL = Image.open(input).convert('RGB')\n",
        "        else:\n",
        "            PIL = input\n",
        "\n",
        "        x1, y1, x2, y2 = detector.detect(PIL)[0][0]\n",
        "        x1, y1, x2, y2 = int(x1), int(y1), int(x2), int(y2)\n",
        "\n",
        "        img_t = torchvision.transforms.ToTensor()(PIL).to(device)\n",
        "        img_t = img_t[:,y1:y2, x1:x2]\n",
        "        img_t = torchvision.transforms.Resize((160,160))(img_t)\n",
        "    else : \n",
        "        img_t = input\n",
        "\n",
        "    if doNormalize:\n",
        "        mean, std = img_t.mean(), img_t.std()\n",
        "        img_t = (img_t - mean) / std\n",
        "\n",
        "    img_t = img_t.unsqueeze(0)\n",
        "    \n",
        "    model.to(device)\n",
        "    model.eval()\n",
        "    with torch.no_grad():\n",
        "        embedding = model(img_t)\n",
        "    return embedding"
      ]
    },
    {
      "cell_type": "code",
      "execution_count": null,
      "metadata": {
        "id": "SmVLxUeXupZh"
      },
      "outputs": [],
      "source": [
        "#anchor_path = '/content/drive/MyDrive/Colab Notebooks/face_verification/dataset/anchors/frame_base.jpg'\n",
        "anchor_path = '/Users/thierryksstentini/Downloads/dataset/anchors/frame_base.jpg'\n",
        "anch_embedding = encoder(anchor_path, model_custom, device, isCrop=False, doNormalize=True, isPIL=False)\n",
        "anch_embedding = anch_embedding.to('cpu')\n",
        "#with open('/content/drive/MyDrive/Colab Notebooks/face_verification/pickle/anchor_base.pkl', 'wb') as anchor:\n",
        "#    pickle.dump(anch_embedding, anchor)"
      ]
    },
    {
      "cell_type": "code",
      "execution_count": null,
      "metadata": {
        "colab": {
          "base_uri": "https://localhost:8080/"
        },
        "id": "JT5aU23OgYo1",
        "outputId": "ac0b93c5-eee6-403f-f0e8-6af86f82095a"
      },
      "outputs": [
        {
          "name": "stdout",
          "output_type": "stream",
          "text": [
            "Image : 1/214\n",
            "Image : 101/214\n",
            "Image : 201/214\n",
            "Image : 214/214\n"
          ]
        }
      ],
      "source": [
        "from scipy.spatial import distance\n",
        "device = torch.device('cuda') if torch.cuda.is_available() else torch.device('cpu')\n",
        "\n",
        "#anchor_path = '/content/drive/MyDrive/Colab Notebooks/face_verification/dataset/random_imgs/moi_ok.jpg'\n",
        "anchor_path = '/content/drive/MyDrive/Colab Notebooks/face_verification/dataset/anchors/frame_base.jpg'\n",
        "anch_embedding = encoder(anchor_path, model_custom, device, isCrop=False, doNormalize=True, isPIL=False)\n",
        "\n",
        "threshold = 0.5\n",
        "\n",
        "count_TP = 0\n",
        "count_TN = 0\n",
        "count_FP = 0\n",
        "count_FN = 0\n",
        "count_P = 0\n",
        "count_N = 0\n",
        "\n",
        "imgs_FP = []\n",
        "d_FP = []\n",
        "imgs_FN = []\n",
        "d_FN = []\n",
        "\n",
        "dict_stat = {'Description' : {'Model':'InceptionResnetV1 + cutom layers output128',\n",
        "                              'Biases' : True,\n",
        "                              'trainset':'CasiaWebface + calibration_images_crop',\n",
        "                              'margin':0.1,\n",
        "                              'threshold':threshold,\n",
        "                              'testset':'imgs_sven_crop',\n",
        "                              'Normalized' : False\n",
        "                              },\n",
        "             'Stats global':{}\n",
        "             }\n",
        "\n",
        "it = 0\n",
        "dataset = siameseDataset_test\n",
        "for it in range(len(dataset)):\n",
        "    img, label = dataset[it]\n",
        "    img, label = img.to(device), label.to(device)\n",
        "    \n",
        "    try : \n",
        "        embedding = encoder(img, model_custom, device, doNormalize=True, isCrop=True, isPIL=True)\n",
        "    except TypeError:\n",
        "        pass\n",
        "    except RuntimeError:\n",
        "        pass\n",
        "\n",
        "    d1 = np.linalg.norm(anch_embedding.to('cpu') - embedding.to('cpu'))\n",
        "\n",
        "    if label == 1 and d1 < threshold:\n",
        "        count_P += 1\n",
        "        count_TP +=1\n",
        "    elif label == 1 and  d1 >= threshold:\n",
        "        count_P += 1\n",
        "        count_FN += 1\n",
        "        imgs_FN.append(img)\n",
        "        d_FN.append(d1)\n",
        "\n",
        "    if label == 0 and d1 >= threshold:\n",
        "        count_N += 1\n",
        "        count_TN += 1\n",
        "    elif label == 0 and d1 < threshold :\n",
        "        count_N += 1\n",
        "        count_FP += 1\n",
        "        imgs_FP.append(img)\n",
        "        d_FP.append(d1)\n",
        "\n",
        "\n",
        "    if it==0 or it%100 == 0 or it == len(dataset)-1:\n",
        "        print(f\"Image : {count_P+count_N}/{len(dataset)}\")\n",
        "\n",
        "\n",
        "\n",
        "dict_stat['Stats global'] = {\n",
        "    'Nb_pos' : count_P,\n",
        "    'Nb_neg' : count_N,\n",
        "    'TP' : f'{count_TP/count_P *100:3.2f}%',\n",
        "    'TN' : f'{count_TN/count_N *100:3.2f}%',\n",
        "    'FN' : f'{count_FN/(count_P)*100:3.2f}%',\n",
        "    'FP' :  f'{count_FP/(count_N)*100:3.2f}%',\n",
        "    'accuracy' : f'{(count_TP+count_TN)/(count_P+count_N) * 100:3.2f}%'\n",
        "}"
      ]
    },
    {
      "cell_type": "code",
      "execution_count": null,
      "metadata": {
        "colab": {
          "base_uri": "https://localhost:8080/"
        },
        "id": "GZeRSdWWgYjQ",
        "outputId": "2af7af52-aef0-4cf2-ed4b-bfed340f16e6"
      },
      "outputs": [
        {
          "name": "stdout",
          "output_type": "stream",
          "text": [
            "Stats on VGG without norm with threshold : 0.52\n",
            "Nb positive : 88\n",
            "Nb Negative : 126\n",
            "TP : 98.86%\n",
            "TN : 99.21%\n",
            "FN : 1.14%\n",
            "FP : 0.79%\n",
            "The model accuracy is 99.07%\n"
          ]
        }
      ],
      "source": [
        "print(f\"Stats on VGG without norm with threshold : {threshold}\")\n",
        "print(f\"Nb positive : {count_P}\")\n",
        "print(f\"Nb Negative : {count_N}\")\n",
        "print(f\"TP : {count_TP/count_P *100:3.2f}%\")\n",
        "print(f\"TN : {count_TN/count_N *100:3.2f}%\")\n",
        "print(f\"FN : {count_FN/(count_P) * 100:3.2f}%\")\n",
        "print(f\"FP : {count_FP/(count_N) * 100:3.2f}%\")\n",
        "print(f\"The model accuracy is {(count_TP+count_TN)/(count_P+count_N) * 100:3.2f}%\")"
      ]
    },
    {
      "cell_type": "code",
      "execution_count": null,
      "metadata": {
        "id": "s-liye7vgYHz"
      },
      "outputs": [],
      "source": [
        ""
      ]
    },
    {
      "cell_type": "code",
      "execution_count": null,
      "metadata": {
        "id": "VrgEpbeTnyRv"
      },
      "outputs": [],
      "source": [
        ""
      ]
    },
    {
      "cell_type": "code",
      "execution_count": null,
      "metadata": {
        "id": "EY3sfNY0nyLI"
      },
      "outputs": [],
      "source": [
        ""
      ]
    },
    {
      "cell_type": "code",
      "execution_count": null,
      "metadata": {
        "id": "f2k-vZe_nyGA"
      },
      "outputs": [],
      "source": [
        ""
      ]
    },
    {
      "cell_type": "code",
      "execution_count": null,
      "metadata": {
        "colab": {
          "base_uri": "https://localhost:8080/"
        },
        "id": "F667ToR23I9L",
        "outputId": "f49f20e9-7817-4d3f-fe00-dac6da4efb9a"
      },
      "outputs": [
        {
          "data": {
            "text/plain": [
              "dict_keys(['dataset_moi_crop', 'dataset_paulinesven_crop', 'dataset_final_moi_crop', 'dataset_final_pasmoi_crop'])"
            ]
          },
          "execution_count": 80,
          "metadata": {},
          "output_type": "execute_result"
        }
      ],
      "source": [
        "with open('/content/drive/MyDrive/Colab Notebooks/face_verification/dataset/dataset_PIL.pkl', 'rb') as file:\n",
        "    testData = pickle.load(file)\n",
        "testData.keys()"
      ]
    },
    {
      "cell_type": "code",
      "execution_count": null,
      "metadata": {
        "id": "UQeBy_4U34_R"
      },
      "outputs": [],
      "source": [
        "with open('/content/drive/MyDrive/Colab Notebooks/face_verification/dataset/dataset_augmented/lfw_PIL.pkl', 'rb') as file:\n",
        "    lfwData = pickle.load(file)\n",
        "lfwData_select = rd.sample(lfwData, 1000)"
      ]
    },
    {
      "cell_type": "code",
      "execution_count": null,
      "metadata": {
        "colab": {
          "base_uri": "https://localhost:8080/"
        },
        "id": "BDsLj4bX3Vrv",
        "outputId": "c33003b5-d56c-48d5-dedd-7a06c13a2cb9"
      },
      "outputs": [
        {
          "data": {
            "text/plain": [
              "(2418, 1037, 1381, 2418)"
            ]
          },
          "execution_count": 82,
          "metadata": {},
          "output_type": "execute_result"
        }
      ],
      "source": [
        "liste_test = testData['dataset_moi_crop'] + testData['dataset_paulinesven_crop'] + lfwData_select\n",
        "label_p = np.full(len(testData['dataset_moi_crop']), 1)\n",
        "label_n = np.full(len(testData['dataset_paulinesven_crop'] + lfwData_select), 0)\n",
        "labels = np.concatenate((label_p, label_n))\n",
        "len(liste_test), len(label_p), len(label_n), len(labels)"
      ]
    },
    {
      "cell_type": "code",
      "execution_count": null,
      "metadata": {
        "colab": {
          "base_uri": "https://localhost:8080/"
        },
        "id": "wZnQYb0S7NzA",
        "outputId": "3f21935b-76d3-48af-9f95-feb47f08198d"
      },
      "outputs": [
        {
          "name": "stdout",
          "output_type": "stream",
          "text": [
            "Image : 0\n",
            "Image : 5\n",
            "Image : 10\n",
            "Image : 15\n"
          ]
        },
        {
          "data": {
            "text/plain": [
              "(20, 20)"
            ]
          },
          "execution_count": 7,
          "metadata": {},
          "output_type": "execute_result"
        }
      ],
      "source": [
        "list_test_t = []\n",
        "labels_test = []\n",
        "liste_test = glob.glob('/content/drive/MyDrive/Colab Notebooks/face_verification/dataset/dataset_calibration3/*')\n",
        "labels = np.full(len(liste_test),1)\n",
        "for it in range(len(liste_test)):\n",
        "    try : \n",
        "        img = encoder(liste_test[it], model_custom, device, doNormalize = True, isCrop=False, isPIL=False)\n",
        "        labels_test.append(labels[it])\n",
        "        list_test_t.append(img)\n",
        "    except TypeError:\n",
        "        pass\n",
        "    except RuntimeError:\n",
        "        pass\n",
        "    if it%5==0:\n",
        "        print(f\"Image : {it}\")\n",
        "len(list_test_t), len(labels_test)"
      ]
    },
    {
      "cell_type": "code",
      "execution_count": null,
      "metadata": {
        "colab": {
          "base_uri": "https://localhost:8080/"
        },
        "id": "VyrpTXVzM4tK",
        "outputId": "a4d0f432-e4e4-4b4e-e165-a75f64d56fbf"
      },
      "outputs": [
        {
          "name": "stdout",
          "output_type": "stream",
          "text": [
            "Image : 1/20\n",
            "Image : 20/20\n"
          ]
        }
      ],
      "source": [
        "from scipy.spatial import distance\n",
        "device = torch.device('cuda') if torch.cuda.is_available() else torch.device('cpu')\n",
        "\n",
        "#anchor_path = '/content/drive/MyDrive/Colab Notebooks/face_verification/dataset/random_imgs/moi_ok.jpg'\n",
        "anchor_path = '/content/drive/MyDrive/Colab Notebooks/face_verification/dataset/anchors/frame_base.jpg'\n",
        "anch_embedding = encoder(anchor_path, model_custom, device, isCrop=False, doNormalize=True, isPIL=False)\n",
        "\n",
        "threshold = 0.5\n",
        "\n",
        "count_TP = 0\n",
        "count_TN = 0\n",
        "count_FP = 0\n",
        "count_FN = 0\n",
        "count_P = 0\n",
        "count_N = 0\n",
        "\n",
        "imgs_FP = []\n",
        "d_FP = []\n",
        "imgs_FN = []\n",
        "d_FN = []\n",
        "\n",
        "dict_stat = {'Description' : {'Model':'InceptionResnetV1 + cutom layers output128',\n",
        "                              'Biases' : True,\n",
        "                              'trainset':'CasiaWebface + calibration2_images_crop',\n",
        "                              'margin':0.1,\n",
        "                              'threshold on validation set':threshold,\n",
        "                              'Anchor' : 'frame_44',\n",
        "                              'valset' : 'train/validation split = 214imgs',\n",
        "                              'testset':'imgs_sven_crop',\n",
        "                              'Normalized trainset' : True,\n",
        "                              'Normalized valset' : True,\n",
        "                              'Normalized testset' : True,\n",
        "                              'Normalized anchor' : True,\n",
        "                              },\n",
        "             'Stats global':{}\n",
        "             }\n",
        "\n",
        "it = 0\n",
        "dataset = list_test_t\n",
        "for it in range(len(dataset)):\n",
        "    img, label = dataset[it], torch.tensor(labels_test[it])\n",
        "    img, label = img.to(device), label.to(device)\n",
        "    embedding = list_test_t[it]\n",
        "    d1 = np.linalg.norm(anch_embedding.to('cpu') - embedding.to('cpu'))\n",
        "\n",
        "    if label == 1 and d1 < threshold:\n",
        "        count_P += 1\n",
        "        count_TP +=1\n",
        "    elif label == 1 and  d1 >= threshold:\n",
        "        count_P += 1\n",
        "        count_FN += 1\n",
        "        imgs_FN.append(img)\n",
        "        d_FN.append(d1)\n",
        "\n",
        "    if label == 0 and d1 >= threshold:\n",
        "        count_N += 1\n",
        "        count_TN += 1\n",
        "    elif label == 0 and d1 < threshold :\n",
        "        count_N += 1\n",
        "        count_FP += 1\n",
        "        imgs_FP.append(img)\n",
        "        d_FP.append(d1)\n",
        "\n",
        "\n",
        "    if it==0 or it%500 == 0 or it == len(dataset)-1:\n",
        "        print(f\"Image : {count_P+count_N}/{len(dataset)}\")\n",
        "\n",
        "\n",
        "\n",
        "dict_stat['Stats global'] = {\n",
        "    'Nb_pos' : count_P,\n",
        "    'Nb_neg' : count_N,\n",
        "    'TP' : f'{count_TP/count_P *100:3.2f}%',\n",
        "    #'TN' : f'{count_TN/count_N *100:3.2f}%',\n",
        "    'FN' : f'{count_FN/(count_P)*100:3.2f}%',\n",
        "    #'FP' :  f'{count_FP/(count_N)*100:3.2f}%',\n",
        "    'accuracy' : f'{(count_TP+count_TN)/(count_P+count_N) * 100:3.2f}%'\n",
        "}"
      ]
    },
    {
      "cell_type": "code",
      "execution_count": null,
      "metadata": {
        "colab": {
          "base_uri": "https://localhost:8080/"
        },
        "id": "jynkQTlMK6xf",
        "outputId": "8f6eb762-25bf-491a-c0d3-db6524f1eeb8"
      },
      "outputs": [
        {
          "name": "stdout",
          "output_type": "stream",
          "text": [
            "Stats on VGG without norm with threshold : 0.5\n",
            "Nb positive : 20\n",
            "Nb Negative : 0\n",
            "TP : 100.00%\n",
            "FN : 0.00%\n",
            "The model accuracy is 100.00%\n"
          ]
        }
      ],
      "source": [
        "print(f\"Stats on VGG without norm with threshold : {threshold}\")\n",
        "print(f\"Nb positive : {count_P}\")\n",
        "print(f\"Nb Negative : {count_N}\")\n",
        "print(f\"TP : {count_TP/count_P *100:3.2f}%\")\n",
        "#print(f\"TN : {count_TN/count_N *100:3.2f}%\")\n",
        "print(f\"FN : {count_FN/(count_P) * 100:3.2f}%\")\n",
        "#print(f\"FP : {count_FP/(count_N) * 100:3.2f}%\")\n",
        "print(f\"The model accuracy is {(count_TP+count_TN)/(count_P+count_N) * 100:3.2f}%\")"
      ]
    },
    {
      "cell_type": "code",
      "execution_count": null,
      "metadata": {
        "id": "t595MiupN5GO"
      },
      "outputs": [],
      "source": [
        "save = False\n",
        "file_name = 'stats_sur_imgsCalibration2_test_sur_imgsven_12032022.pkl'\n",
        "if save : \n",
        "    with open('/content/drive/MyDrive/Colab Notebooks/face_verification/pickle/'+file_name, 'wb') as pkl:\n",
        "        pickle.dump(dict_stat, pkl)\n",
        "else : \n",
        "    with open('/content/drive/MyDrive/Colab Notebooks/face_verification/pickle/'+file_name, 'rb') as pkl:\n",
        "        dict_stat = pickle.load(pkl)"
      ]
    },
    {
      "cell_type": "code",
      "execution_count": null,
      "metadata": {
        "colab": {
          "base_uri": "https://localhost:8080/"
        },
        "id": "l7wmoItrr9mI",
        "outputId": "59e03379-1b52-4b99-e04a-3f43ced519ba"
      },
      "outputs": [
        {
          "name": "stdout",
          "output_type": "stream",
          "text": [
            "{'Description': {'Anchor': 'frame_44',\n",
            "                 'Biases': True,\n",
            "                 'Model': 'InceptionResnetV1 + cutom layers output128',\n",
            "                 'Normalized anchor': True,\n",
            "                 'Normalized testset': True,\n",
            "                 'Normalized trainset': True,\n",
            "                 'Normalized valset': True,\n",
            "                 'margin': 0.1,\n",
            "                 'testset': 'imgs_sven_crop',\n",
            "                 'threshold on validation set': 0.5,\n",
            "                 'trainset': 'CasiaWebface + calibration2_images_crop',\n",
            "                 'valset': 'train/validation split = 214imgs'},\n",
            " 'Stats global': {'FN': '5.71%',\n",
            "                  'FP': '1.03%',\n",
            "                  'Nb_neg': 1354,\n",
            "                  'Nb_pos': 928,\n",
            "                  'TN': '98.97%',\n",
            "                  'TP': '94.29%',\n",
            "                  'accuracy': '97.06%'}}\n"
          ]
        }
      ],
      "source": [
        "import pprint\n",
        "pprint.pprint(dict_stat)"
      ]
    },
    {
      "cell_type": "code",
      "execution_count": null,
      "metadata": {
        "id": "Mp1r7TM_54IP"
      },
      "outputs": [],
      "source": [
        ""
      ]
    }
  ],
  "metadata": {
    "accelerator": "GPU",
    "colab": {
      "collapsed_sections": [],
      "name": "SiameseNet_final.ipynb",
      "provenance": [],
      "include_colab_link": true
    },
    "kernelspec": {
      "display_name": "Python 3.9.13 ('base')",
      "language": "python",
      "name": "python3"
    },
    "language_info": {
      "codemirror_mode": {
        "name": "ipython",
        "version": 3
      },
      "file_extension": ".py",
      "mimetype": "text/x-python",
      "name": "python",
      "nbconvert_exporter": "python",
      "pygments_lexer": "ipython3",
      "version": "3.9.13"
    },
    "vscode": {
      "interpreter": {
        "hash": "bfc2e043f4a41bbce066f7921047bdcfe8769546c7198e4df6482fd90de274f1"
      }
    }
  },
  "nbformat": 4,
  "nbformat_minor": 0
}