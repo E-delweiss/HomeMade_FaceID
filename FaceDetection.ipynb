{
  "cells": [
    {
      "cell_type": "markdown",
      "source": [
        "# Building our own Face Detection model\n",
        "\n",
        "This model comes with..."
      ],
      "metadata": {
        "id": "aD0UzBIX17JX"
      }
    },
    {
      "cell_type": "code",
      "source": [
        "from google.colab import drive\n",
        "drive.mount('/content/drive')"
      ],
      "metadata": {
        "id": "PwKoZ0ocZmIn"
      },
      "execution_count": null,
      "outputs": []
    },
    {
      "cell_type": "code",
      "execution_count": 3,
      "metadata": {
        "id": "ZJdox8nPbugJ"
      },
      "outputs": [],
      "source": [
        "import os\n",
        "os.environ['CUDA_LAUNCH_BLOCKING'] = \"1\"\n",
        "\n",
        "import numpy as np\n",
        "import glob\n",
        "import pickle\n",
        "import tqdm\n",
        "\n",
        "import torch\n",
        "import torch.nn as nn\n",
        "from torchsummary import summary\n",
        "from torch.utils.data import DataLoader\n",
        "from torch.utils.data import Dataset\n",
        "\n",
        "import torchvision\n",
        "import torchvision.transforms\n",
        "\n",
        "from PIL import Image"
      ]
    },
    {
      "cell_type": "code",
      "execution_count": 11,
      "metadata": {
        "id": "0L1DXFKxpc2S"
      },
      "outputs": [],
      "source": [
        "class FaceDetection_dataset(Dataset):\n",
        "    def __init__(self, imgset_face:list, imgset_noface:list, val_stride:int=0, isValSet_bool:bool=False, \n",
        "                 isAugment_bool:bool=False, isNormalize_bool:bool=False):\n",
        "        \"\"\"\n",
        "        Class that build the dataset to feed the Pytorch Dataloader \n",
        "\n",
        "        -------------------\n",
        "        Class attributs:\n",
        "            imgset_face: list of PIL images\n",
        "                The list of PIL images with face in it\n",
        "            imgset_face: list of PIL images.\n",
        "                The list of PIL images without face in it (typically random\n",
        "                background found in the 'houseroom dataset').\n",
        "            val_stride: int\n",
        "                Use to select training images and validation images without data\n",
        "                leaks.\n",
        "            isValSet_bool: bool\n",
        "                Boolean to construct a validation dataset\n",
        "            isAugment_bool: bool\n",
        "                Boolean to activate the data augmentation preprocessing\n",
        "            isNormalize_bool: bool\n",
        "                Boolean to activate normalization of each image by its own mean\n",
        "                and std values.\n",
        "        \"\"\"\n",
        "        \n",
        "        self.isAugment_bool = isAugment_bool\n",
        "        self.isNormalize_bool = isNormalize_bool\n",
        "        \n",
        "        self.imgset = imgset_face + imgset_noface        \n",
        "        \n",
        "        label_face = np.ones(len(imgset_face)).tolist()\n",
        "        label_noface = np.zeros(len(imgset_noface)).tolist()\n",
        "        self.labelset = label_face + label_noface\n",
        "        \n",
        "        if isValSet_bool:\n",
        "            assert val_stride > 0, 'val_stride should be greater than zero'\n",
        "            self.imgset = self.imgset[::val_stride]\n",
        "            self.labelset = self.labelset[::val_stride]\n",
        "       \n",
        "        elif val_stride > 0:\n",
        "            del self.imgset[::val_stride]\n",
        "            del self.labelset[::val_stride]\n",
        "\n",
        "    def preprocess(self, img)->torch.Tensor:\n",
        "        transform = torchvision.transforms.Compose(\n",
        "            [torchvision.transforms.Resize((256)), \n",
        "                torchvision.transforms.ToTensor(),\n",
        "                torchvision.transforms.Normalize(mean=[0.485, 0.456, 0.406], \n",
        "                                                    std=[0.229, 0.224, 0.225])])\n",
        "        img_t = transform(img)\n",
        "        \n",
        "        if self.isAugment_bool:\n",
        "            \"\"\" to do \"\"\"\n",
        "            augment = torchvision.transforms.Compose([\n",
        "                torchvision.transforms.CenterCrop(224),\n",
        "                torchvision.transforms.RandomHorizontalFlip(p=0.5),\n",
        "                torchvision.transforms.RandomRotation(degrees=(-10,10))\n",
        "            ])\n",
        "            img_t = augment(img)\n",
        "        \n",
        "\n",
        "        if self.isNormalize_bool:\n",
        "            mean, std = img_t.mean(), img_t.std()\n",
        "            img_t = (img_t - mean) / std\n",
        "\n",
        "        return img_t\n",
        "\n",
        "\n",
        "\n",
        "    def __len__(self):\n",
        "        return len(self.imgset)\n",
        "    \n",
        "    def __getitem__(self, idx):\n",
        "        if torch.is_tensor(idx):\n",
        "            idx = idx.tolist()\n",
        "\n",
        "        image = self.imgset[idx]\n",
        "        image = self.preprocess(image)\n",
        "        \n",
        "        label = self.labelset[idx]\n",
        "            \n",
        "        return image, torch.tensor(label, dtype=torch.int32)\n"
      ]
    },
    {
      "cell_type": "code",
      "source": [
        ""
      ],
      "metadata": {
        "id": "DkI7lGqqc3_j"
      },
      "execution_count": null,
      "outputs": []
    },
    {
      "cell_type": "markdown",
      "source": [
        "# Loading data"
      ],
      "metadata": {
        "id": "qNVduGWRcVPR"
      }
    },
    {
      "cell_type": "code",
      "execution_count": 12,
      "metadata": {
        "id": "J_4D2oPbo2k8"
      },
      "outputs": [],
      "source": [
        "### https://www.kaggle.com/datasets/robinreni/house-rooms-image-dataset\n",
        "### http://vis-www.cs.umass.edu/lfw/\n",
        "\n",
        "data_path = '/content/drive/MyDrive/Colab Notebooks'\n",
        "\n",
        "#----------------------------- Loading images with a face ---------------------#\n",
        "#imgset_face_path = glob.glob(data_path + '/face_verification/*dataset/*lfw/*/*')\n",
        "#imgset_face_PIL = [Image.open(k).convert('RGB') for k in imgset_face_path]\n",
        "with open(data_path + '/face_verification/dataset/dataset_augmented/lfw_PIL.pkl', 'rb') as lfw_PIL:\n",
        "    imgset_face_PIL = pickle.load(lfw_PIL)\n",
        "\n",
        "\n",
        "#----------------------------- Loading images without face --------------------#\n",
        "#imgset_noface_path = glob.glob(data_path + '/face_verification/*dataset/*houseroom/*/*')\n",
        "#imgset_noface_PIL = [Image.open(k).convert('RGB') for k in imgset_noface_path]\n",
        "with open(data_path + '/face_verification/dataset/houseroom/houseroom_3000_PIL.pkl', 'rb') as houseroom_PIL:\n",
        "    imgset_noface_PIL = pickle.load(houseroom_PIL)\n",
        "\n",
        "#----------------------------- Creating datasets ------------------------------#\n",
        "dataset_train = FaceDetection_dataset(imgset_face_PIL, imgset_noface_PIL, val_stride=10, isValSet_bool=False, isAugment_bool=True)\n",
        "dataset_val = FaceDetection_dataset(imgset_face_PIL, imgset_noface_PIL, val_stride=10, isValSet_bool=True)\n",
        "\n",
        "del imgset_face_PIL, imgset_noface_PIL\n",
        "\n",
        "#----------------------------- Creating loaders -------------------------------#\n",
        "BATCH_SIZE = 128\n",
        "train_dataloader = DataLoader(dataset_train, batch_size=BATCH_SIZE, shuffle=True)\n",
        "val_dataloader = DataLoader(dataset_val, batch_size=BATCH_SIZE, shuffle=False)"
      ]
    },
    {
      "cell_type": "code",
      "source": [
        "import random as rd\n",
        "rd.choice(dataset_train)[0]"
      ],
      "metadata": {
        "id": "1a0uXbm-fYG7",
        "outputId": "b90c0ef0-30a0-4002-c588-334c2e43a9d7",
        "colab": {
          "base_uri": "https://localhost:8080/",
          "height": 241
        }
      },
      "execution_count": 24,
      "outputs": [
        {
          "output_type": "execute_result",
          "data": {
            "text/plain": [
              "<PIL.Image.Image image mode=RGB size=224x224 at 0x7FF64AB05490>"
            ],
            "image/png": "[encoded data removed]"
          },
          "metadata": {},
          "execution_count": 24
        }
      ]
    },
    {
      "cell_type": "markdown",
      "source": [
        "# Creating the model"
      ],
      "metadata": {
        "id": "QfVzyPJKcY50"
      }
    },
    {
      "cell_type": "code",
      "execution_count": null,
      "metadata": {
        "colab": {
          "base_uri": "https://localhost:8080/",
          "height": 66,
          "referenced_widgets": [
            "32e2a52a05e24d60b7548433155e72ae",
            "505db89d72b34a34971291ccfaf0b3ff",
            "4c553a6a3c224c07b42016e31ac7285d",
            "c58a474359344e4e9944c2115121cf7d",
            "4f205a6e23cd4a12947ea64ef1dc986e",
            "fa83ab9de4374921853df19db53dded8",
            "439e24adee154320b79b7cac83c53a30",
            "ac34c26b2cdf4c1493da71ed7e5410f0",
            "2c7a8660130e40bbab6de68e755ca128",
            "0fc7e5f1d6274e0da948779e948627e3",
            "c913ab7aad7e49a79fde819c99acd1a4"
          ]
        },
        "id": "N5PcQVGJuuKn",
        "outputId": "0b820240-8840-4c40-c9aa-903927a148a6"
      },
      "outputs": [
        {
          "output_type": "stream",
          "name": "stderr",
          "text": [
            "Downloading: \"https://download.pytorch.org/models/resnet50-0676ba61.pth\" to /root/.cache/torch/hub/checkpoints/resnet50-0676ba61.pth\n"
          ]
        },
        {
          "output_type": "display_data",
          "data": {
            "text/plain": [
              "  0%|          | 0.00/97.8M [00:00<?, ?B/s]"
            ],
            "application/vnd.jupyter.widget-view+json": {
              "version_major": 2,
              "version_minor": 0,
              "model_id": "32e2a52a05e24d60b7548433155e72ae"
            }
          },
          "metadata": {}
        }
      ],
      "source": [
        "res50 = torchvision.models.resnet50(pretrained = True, progress = True)\n",
        "\n",
        "### Freezing all weights\n",
        "for param in res50.parameters():\n",
        "  param.requires_grad = False\n",
        "\n",
        "### Turning the last fc layer such that it has 2 outputs\n",
        "res50.fc = nn.Linear(2048, 2)\n",
        "\n",
        "device = torch.device('cuda') if torch.cuda.is_available() else torch.device('cpu')\n",
        "\n",
        "optimizer = torch.optim.SGD(res50.parameters(), lr=0.01)\n",
        "num_epochs = 2"
      ]
    },
    {
      "cell_type": "markdown",
      "source": [
        "# Building the training loop function"
      ],
      "metadata": {
        "id": "E5JlRfaDcfOV"
      }
    },
    {
      "cell_type": "code",
      "execution_count": null,
      "metadata": {
        "id": "UMXZknaVuWer"
      },
      "outputs": [],
      "source": [
        "def model_loop(model, epochs, trainloader, validloader, optimizer, loss_fn, device):\n",
        "    model.to(device)\n",
        "    train_loss_list = []\n",
        "    valid_loss_list = []\n",
        "    for epoch in range(num_epochs):\n",
        "        print(f\"Epoch {epoch+1} on {device} \\n-------------------------------\")\n",
        "        model.train()\n",
        "        train_loss = 0.0\n",
        "        size = len(trainloader.dataset)\n",
        "        \n",
        "        for batch, (data, labels) in enumerate(trainloader):\n",
        "            # Transfer Data to GPU if available\n",
        "            data, labels = data.to(device), labels.to(device)\n",
        "\n",
        "            # Clear the gradients\n",
        "            optimizer.zero_grad()\n",
        "\n",
        "            # Make prediction & compute the mini-batch training loss\n",
        "            preds = model(data)\n",
        "            loss = loss_fn(preds, labels)\n",
        "\n",
        "            # Compute the gradients\n",
        "            loss.backward()\n",
        "\n",
        "            # Update Weights\n",
        "            optimizer.step()\n",
        "\n",
        "            # Aggregate mini-batch training losses\n",
        "            train_loss += loss.item()\n",
        "            train_loss_list.append(train_loss)\n",
        "\n",
        "            \n",
        "            if batch % 100000 == 0:\n",
        "                loss, current = loss.item(), (batch+1) * len(data)\n",
        "                print(f\"mini-batch loss for training : {loss:>7f}  [{current:>5d}/{size:>5d}]\")\n",
        "        \n",
        "        # Compute the global training loss as the mean of the mini-batch training losses\n",
        "        train_loss /= len(trainloader)\n",
        "      \n",
        "        model.eval()\n",
        "        valid_loss = 0.0\n",
        "        # Test part : no gradient update\n",
        "        with torch.no_grad():\n",
        "            for batch, (data, labels) in enumerate(validloader):\n",
        "                # Transfer Data to GPU if available\n",
        "                data, labels = data.to(device), labels.to(device)\n",
        "              \n",
        "                # Forward Pass & compute the mini-batch validation loss\n",
        "                preds = model(data)\n",
        "                loss = loss_fn(preds,labels)\n",
        "\n",
        "                # Calculate Loss\n",
        "                valid_loss += loss.item()\n",
        "                valid_loss_list.append(valid_loss)\n",
        "\n",
        "                if batch % 10 == 0:\n",
        "                    loss, current = loss.item(), (batch+1) * len(data)\n",
        "                    print(f\"mini-batch loss for validation : {loss:>7f}  [{current:>5d}/{size:>5d}]\")\n",
        "        \n",
        "        # Compute the global validation loss as the mean of the mini-batch validation losses\n",
        "        valid_loss /= len(validloader)\n",
        "\n",
        "        print(f\"Epoch {epoch+1} \\n Training Loss: {train_loss:>7f} \\n Validation Loss: {valid_loss:>7f}\" )\n",
        "\n",
        "    return train_loss_list, valid_loss_list\n"
      ]
    },
    {
      "cell_type": "markdown",
      "source": [
        "# Training"
      ],
      "metadata": {
        "id": "KFfMqBzKcldY"
      }
    },
    {
      "cell_type": "code",
      "execution_count": null,
      "metadata": {
        "colab": {
          "base_uri": "https://localhost:8080/"
        },
        "id": "tECr8i3nuoGM",
        "outputId": "82cd1475-32f4-459f-a4be-9452c773b61e"
      },
      "outputs": [
        {
          "name": "stdout",
          "output_type": "stream",
          "text": [
            "Epoch 1 on cpu \n",
            "-------------------------------\n",
            "mini-batch loss for training : 0.726754  [  128/ 6814]\n",
            "mini-batch loss for validation : 0.000223  [  128/ 6814]\n",
            "Epoch 1 \n",
            " Training Loss: 0.044923 \n",
            " Validation Loss: 0.000698\n",
            "Epoch 2 on cpu \n",
            "-------------------------------\n",
            "mini-batch loss for training : 0.001566  [  128/ 6814]\n",
            "mini-batch loss for validation : 0.000216  [  128/ 6814]\n",
            "Epoch 2 \n",
            " Training Loss: 0.000325 \n",
            " Validation Loss: 0.000815\n"
          ]
        }
      ],
      "source": [
        "loss = nn.CrossEntropyLoss()\n",
        "train_loss, valid_loss = model_loop(model = res50,\n",
        "                                    epochs = num_epochs,\n",
        "                                    trainloader=train_dataloader,\n",
        "                                    validloader = val_dataloader,\n",
        "                                    optimizer=optimizer,\n",
        "                                    loss_fn = loss,\n",
        "                                    device = device) "
      ]
    },
    {
      "cell_type": "code",
      "execution_count": null,
      "metadata": {
        "id": "u5IQX8l2RC-4"
      },
      "outputs": [],
      "source": [
        "losses = {'train_loss' : train_loss, 'valid_loss' : valid_loss}\n",
        "import pickle\n",
        "with open(\"losses.pickle\", \"wb\") as file:\n",
        "    pickle.dump(losses, file)\n"
      ]
    },
    {
      "cell_type": "code",
      "execution_count": null,
      "metadata": {
        "id": "lpTlf-xIu8WF"
      },
      "outputs": [],
      "source": [
        "def test_accuracy(model, validloader, device):\n",
        "    correct = 0\n",
        "    total = len(validloader.dataset)\n",
        "    model.eval()\n",
        "\n",
        "    # test part : no gradient update\n",
        "    with torch.no_grad():\n",
        "        for imgs, labels in validloader :\n",
        "            # Transfer Data to GPU if available\n",
        "            imgs, labels = imgs.to(device), labels.to(device)\n",
        "\n",
        "            # Prediction on unseen data as 0 or 1\n",
        "            outputs = model(imgs)\n",
        "            _, predicted = torch.max(outputs, dim=1)\n",
        "\n",
        "            # Aggregate and sum the correct predictions for each mini-batch\n",
        "            correct += int((predicted == labels).sum())\n",
        "\n",
        "    # Mean of the mini-batch correct predictions\n",
        "    accuracy = correct / total\n",
        "    print(\"Validation accuracy : {:.2f}\".format(accuracy))"
      ]
    },
    {
      "cell_type": "code",
      "execution_count": null,
      "metadata": {
        "colab": {
          "base_uri": "https://localhost:8080/",
          "height": 163
        },
        "id": "iZ4-d1M8vUnZ",
        "outputId": "5405f650-3a3c-4afd-bda8-b27b69b67a2a"
      },
      "outputs": [
        {
          "ename": "NameError",
          "evalue": "ignored",
          "output_type": "error",
          "traceback": [
            "\u001b[0;31m---------------------------------------------------------------------------\u001b[0m",
            "\u001b[0;31mNameError\u001b[0m                                 Traceback (most recent call last)",
            "\u001b[0;32m<ipython-input-7-9c52d711fcb4>\u001b[0m in \u001b[0;36m<module>\u001b[0;34m()\u001b[0m\n\u001b[0;32m----> 1\u001b[0;31m \u001b[0mtest_accuracy\u001b[0m\u001b[0;34m(\u001b[0m\u001b[0mres50\u001b[0m\u001b[0;34m,\u001b[0m \u001b[0mval_dataloader\u001b[0m\u001b[0;34m,\u001b[0m \u001b[0mdevice\u001b[0m\u001b[0;34m)\u001b[0m\u001b[0;34m\u001b[0m\u001b[0;34m\u001b[0m\u001b[0m\n\u001b[0m",
            "\u001b[0;31mNameError\u001b[0m: name 'val_dataloader' is not defined"
          ]
        }
      ],
      "source": [
        "test_accuracy(res50, val_dataloader, device)"
      ]
    },
    {
      "cell_type": "code",
      "execution_count": null,
      "metadata": {
        "colab": {
          "base_uri": "https://localhost:8080/"
        },
        "id": "D-D0MiAP1UKr",
        "outputId": "8dd84346-a82e-40f3-820a-edfe3fff8118"
      },
      "outputs": [
        {
          "data": {
            "text/plain": [
              "['/content/drive/MyDrive/Colab Notebooks/dataset/moi_sombre.jpg',\n",
              " '/content/drive/MyDrive/Colab Notebooks/dataset/moi_bas_eclaire.jpg',\n",
              " '/content/drive/MyDrive/Colab Notebooks/dataset/moi_ok.jpg',\n",
              " '/content/drive/MyDrive/Colab Notebooks/dataset/pasmoi_1.jpg',\n",
              " '/content/drive/MyDrive/Colab Notebooks/dataset/pasmoi_2.jpg',\n",
              " '/content/drive/MyDrive/Colab Notebooks/dataset/pasmoi_3.jpg',\n",
              " '/content/drive/MyDrive/Colab Notebooks/dataset/pasmoi_4.jpg']"
            ]
          },
          "execution_count": 21,
          "metadata": {},
          "output_type": "execute_result"
        }
      ],
      "source": [
        "img_de_moi = glob.glob(data_path + '/*dataset/*jpg')\n",
        "img_de_moi"
      ]
    },
    {
      "cell_type": "code",
      "execution_count": null,
      "metadata": {
        "colab": {
          "base_uri": "https://localhost:8080/"
        },
        "id": "uy8LUWv0aBRU",
        "outputId": "7f454e55-f44d-47a0-e7af-aca5fbc87522"
      },
      "outputs": [
        {
          "data": {
            "text/plain": [
              "[tensor([1], device='cuda:0'),\n",
              " tensor([1], device='cuda:0'),\n",
              " tensor([1], device='cuda:0'),\n",
              " tensor([0], device='cuda:0'),\n",
              " tensor([0], device='cuda:0'),\n",
              " tensor([0], device='cuda:0'),\n",
              " tensor([0], device='cuda:0')]"
            ]
          },
          "execution_count": 23,
          "metadata": {},
          "output_type": "execute_result"
        }
      ],
      "source": [
        "preprocess = torchvision.transforms.Compose([\n",
        "                torchvision.transforms.Resize(256),\n",
        "                torchvision.transforms.CenterCrop(224),\n",
        "                torchvision.transforms.ToTensor(),\n",
        "                torchvision.transforms.Normalize(mean=[0.485, 0.456, 0.406], \n",
        "                                                 std=[0.229, 0.224, 0.225]),\n",
        "            ])\n",
        "\n",
        "pred_list = []\n",
        "img_pred_list = []\n",
        "for k in img_de_moi :\n",
        "  with torch.no_grad():\n",
        "    img = Image.open(k)\n",
        "    img_t = preprocess(img)\n",
        "    img_gpu = img_t.to(device)\n",
        "    pred = res50(img_gpu.unsqueeze(0))\n",
        "    _, img_pred = torch.max(pred, dim=1)\n",
        "    img_pred_list.append(img_pred)\n",
        "    pred_list += pred\n",
        "\n",
        "img_pred_list"
      ]
    },
    {
      "cell_type": "code",
      "execution_count": null,
      "metadata": {
        "id": "nQfnAE50FeU1"
      },
      "outputs": [],
      "source": [
        "img_test = dataset_val[5][0].unsqueeze(0).to(device)\n",
        "a = torchvision.transforms.ToPILImage()(img_test.squeeze(0))\n",
        "a.show()"
      ]
    },
    {
      "cell_type": "code",
      "execution_count": null,
      "metadata": {
        "id": "V4dzqv0CHPUj"
      },
      "outputs": [],
      "source": [
        "torch.save(res50, data_path + '/res50_face_detection_2.pth')"
      ]
    },
    {
      "cell_type": "code",
      "execution_count": null,
      "metadata": {
        "id": "1LLavxPbv9cW"
      },
      "outputs": [],
      "source": [
        "import matplotlib.pyplot as plt\n",
        "import numpy as np\n",
        "import pickle\n",
        "\n",
        "with open('losses.pickle', 'rb') as pkl:\n",
        "    losses = pickle.load(pkl)"
      ]
    },
    {
      "cell_type": "code",
      "execution_count": null,
      "metadata": {
        "colab": {
          "base_uri": "https://localhost:8080/",
          "height": 282
        },
        "id": "ldxbH1U1wGgn",
        "outputId": "3ff057c0-59bd-48a5-9462-d9d9ae96645d"
      },
      "outputs": [
        {
          "data": {
            "text/plain": [
              "[<matplotlib.lines.Line2D at 0x7f02a07c70d0>]"
            ]
          },
          "execution_count": 23,
          "metadata": {},
          "output_type": "execute_result"
        },
        {
          "data": {
            "image/png": "[encoded data removed]",
            "text/plain": [
              "<Figure size 432x288 with 1 Axes>"
            ]
          },
          "metadata": {},
          "output_type": "display_data"
        }
      ],
      "source": [
        "train_loss = losses['train_loss']\n",
        "valid_loss = losses['valid_loss']\n",
        "\n",
        "train_loss_a = np.array(train_loss)\n",
        "valid_loss_a = np.array(valid_loss)\n",
        "\n",
        "plt.plot(train_loss_a)\n",
        "plt.plot(valid_loss_a)"
      ]
    },
    {
      "cell_type": "code",
      "execution_count": null,
      "metadata": {
        "colab": {
          "base_uri": "https://localhost:8080/"
        },
        "id": "iyP5OBZtGk6Y",
        "outputId": "f6da79d1-d855-4276-9e29-f44bafeb55b3"
      },
      "outputs": [
        {
          "data": {
            "text/plain": [
              "array([7.26754189e-01, 1.27096283e+00, 1.72886929e+00, 1.91742384e+00,\n",
              "       2.06040400e+00, 2.19214158e+00, 2.22320805e+00, 2.24446922e+00,\n",
              "       2.26210658e+00, 2.27291502e+00, 2.28503628e+00, 2.32956765e+00,\n",
              "       2.33472416e+00, 2.34417710e+00, 2.35653077e+00, 2.37167861e+00,\n",
              "       2.37641066e+00, 2.38186004e+00, 2.38256879e+00, 2.39096806e+00,\n",
              "       2.39144261e+00, 2.39199617e+00, 2.39278914e+00, 2.39347116e+00,\n",
              "       2.39384132e+00, 2.39415927e+00, 2.39570596e+00, 2.39635188e+00,\n",
              "       2.39771858e+00, 2.39805939e+00, 2.39903542e+00, 2.40264012e+00,\n",
              "       2.40316140e+00, 2.40353961e+00, 2.40833454e+00, 2.40895863e+00,\n",
              "       2.40954224e+00, 2.41138165e+00, 2.41284637e+00, 2.41322967e+00,\n",
              "       2.41341100e+00, 2.41832886e+00, 2.41856607e+00, 2.41924852e+00,\n",
              "       2.42359686e+00, 2.42410438e+00, 2.42441930e+00, 2.42464649e+00,\n",
              "       2.42509494e+00, 2.42522560e+00, 2.42538189e+00, 2.42555796e+00,\n",
              "       2.42563661e+00, 2.42585543e+00, 1.56572997e-03, 1.79192632e-03,\n",
              "       2.35735990e-03, 2.52078021e-03, 2.76488571e-03, 3.77730587e-03,\n",
              "       3.92060755e-03, 4.05567369e-03, 4.74596201e-03, 4.91304186e-03,\n",
              "       5.68140516e-03, 6.13943793e-03, 6.57174771e-03, 6.83921389e-03,\n",
              "       7.15044240e-03, 7.33273673e-03, 7.51084488e-03, 7.63663409e-03,\n",
              "       7.85630252e-03, 8.43042313e-03, 8.59985130e-03, 8.78570213e-03,\n",
              "       8.99112943e-03, 9.46640232e-03, 9.69681608e-03, 9.86589631e-03,\n",
              "       1.01890512e-02, 1.02656661e-02, 1.06211931e-02, 1.12553679e-02,\n",
              "       1.13344501e-02, 1.15228208e-02, 1.15926068e-02, 1.21648574e-02,\n",
              "       1.22144438e-02, 1.24961934e-02, 1.26285612e-02, 1.27784898e-02,\n",
              "       1.32063446e-02, 1.33129001e-02, 1.40364524e-02, 1.41934479e-02,\n",
              "       1.44246192e-02, 1.46289130e-02, 1.47392533e-02, 1.51235947e-02,\n",
              "       1.52639572e-02, 1.53837179e-02, 1.56798106e-02, 1.58920343e-02,\n",
              "       1.62169517e-02, 1.65967018e-02, 1.75555941e-02, 1.75755927e-02])"
            ]
          },
          "execution_count": 24,
          "metadata": {},
          "output_type": "execute_result"
        }
      ],
      "source": [
        "train_loss_a"
      ]
    },
    {
      "cell_type": "code",
      "execution_count": null,
      "metadata": {
        "colab": {
          "base_uri": "https://localhost:8080/",
          "height": 66,
          "referenced_widgets": [
            "48a4d05996034510842c3fb754cbaae4",
            "0c986a5fcd4c4e648a5d172416743f1d",
            "dc6a6acf6d784383a2ee14e946b3e9df",
            "9134a56d65e44920b934415282059717",
            "726fab65e7824292b0f2c26c40e60bf9",
            "c4268414c8e0432eaabc07a5e1388cb1",
            "454043362df747e38847b07bcb00f530",
            "959072464d8543a0915a238b779982de",
            "053e107f70af40dfbd4a8890567a58b5",
            "d3f8672711874208b71bc31e063e6fec",
            "0c7d2138828d49289eedd4b839632aad"
          ]
        },
        "id": "1WIo8lk-KXog",
        "outputId": "fb0f5149-d686-4545-95d7-2d7da87b16c2"
      },
      "outputs": [
        {
          "name": "stderr",
          "output_type": "stream",
          "text": [
            "Downloading: \"https://download.pytorch.org/models/resnet18-f37072fd.pth\" to /root/.cache/torch/hub/checkpoints/resnet18-f37072fd.pth\n"
          ]
        },
        {
          "data": {
            "application/vnd.jupyter.widget-view+json": {
              "model_id": "48a4d05996034510842c3fb754cbaae4",
              "version_major": 2,
              "version_minor": 0
            },
            "text/plain": [
              "  0%|          | 0.00/44.7M [00:00<?, ?B/s]"
            ]
          },
          "metadata": {},
          "output_type": "display_data"
        }
      ],
      "source": [
        "res18 = torchvision.models.resnet18(pretrained = True, progress = True)"
      ]
    },
    {
      "cell_type": "code",
      "execution_count": null,
      "metadata": {
        "colab": {
          "base_uri": "https://localhost:8080/"
        },
        "id": "sV4q2kbyBrKh",
        "outputId": "f0d888bd-ff37-4fa3-e207-897335ac9d6c"
      },
      "outputs": [
        {
          "data": {
            "text/plain": [
              "ResNet(\n",
              "  (conv1): Conv2d(3, 64, kernel_size=(7, 7), stride=(2, 2), padding=(3, 3), bias=False)\n",
              "  (bn1): BatchNorm2d(64, eps=1e-05, momentum=0.1, affine=True, track_running_stats=True)\n",
              "  (relu): ReLU(inplace=True)\n",
              "  (maxpool): MaxPool2d(kernel_size=3, stride=2, padding=1, dilation=1, ceil_mode=False)\n",
              "  (layer1): Sequential(\n",
              "    (0): BasicBlock(\n",
              "      (conv1): Conv2d(64, 64, kernel_size=(3, 3), stride=(1, 1), padding=(1, 1), bias=False)\n",
              "      (bn1): BatchNorm2d(64, eps=1e-05, momentum=0.1, affine=True, track_running_stats=True)\n",
              "      (relu): ReLU(inplace=True)\n",
              "      (conv2): Conv2d(64, 64, kernel_size=(3, 3), stride=(1, 1), padding=(1, 1), bias=False)\n",
              "      (bn2): BatchNorm2d(64, eps=1e-05, momentum=0.1, affine=True, track_running_stats=True)\n",
              "    )\n",
              "    (1): BasicBlock(\n",
              "      (conv1): Conv2d(64, 64, kernel_size=(3, 3), stride=(1, 1), padding=(1, 1), bias=False)\n",
              "      (bn1): BatchNorm2d(64, eps=1e-05, momentum=0.1, affine=True, track_running_stats=True)\n",
              "      (relu): ReLU(inplace=True)\n",
              "      (conv2): Conv2d(64, 64, kernel_size=(3, 3), stride=(1, 1), padding=(1, 1), bias=False)\n",
              "      (bn2): BatchNorm2d(64, eps=1e-05, momentum=0.1, affine=True, track_running_stats=True)\n",
              "    )\n",
              "  )\n",
              "  (layer2): Sequential(\n",
              "    (0): BasicBlock(\n",
              "      (conv1): Conv2d(64, 128, kernel_size=(3, 3), stride=(2, 2), padding=(1, 1), bias=False)\n",
              "      (bn1): BatchNorm2d(128, eps=1e-05, momentum=0.1, affine=True, track_running_stats=True)\n",
              "      (relu): ReLU(inplace=True)\n",
              "      (conv2): Conv2d(128, 128, kernel_size=(3, 3), stride=(1, 1), padding=(1, 1), bias=False)\n",
              "      (bn2): BatchNorm2d(128, eps=1e-05, momentum=0.1, affine=True, track_running_stats=True)\n",
              "      (downsample): Sequential(\n",
              "        (0): Conv2d(64, 128, kernel_size=(1, 1), stride=(2, 2), bias=False)\n",
              "        (1): BatchNorm2d(128, eps=1e-05, momentum=0.1, affine=True, track_running_stats=True)\n",
              "      )\n",
              "    )\n",
              "    (1): BasicBlock(\n",
              "      (conv1): Conv2d(128, 128, kernel_size=(3, 3), stride=(1, 1), padding=(1, 1), bias=False)\n",
              "      (bn1): BatchNorm2d(128, eps=1e-05, momentum=0.1, affine=True, track_running_stats=True)\n",
              "      (relu): ReLU(inplace=True)\n",
              "      (conv2): Conv2d(128, 128, kernel_size=(3, 3), stride=(1, 1), padding=(1, 1), bias=False)\n",
              "      (bn2): BatchNorm2d(128, eps=1e-05, momentum=0.1, affine=True, track_running_stats=True)\n",
              "    )\n",
              "  )\n",
              "  (layer3): Sequential(\n",
              "    (0): BasicBlock(\n",
              "      (conv1): Conv2d(128, 256, kernel_size=(3, 3), stride=(2, 2), padding=(1, 1), bias=False)\n",
              "      (bn1): BatchNorm2d(256, eps=1e-05, momentum=0.1, affine=True, track_running_stats=True)\n",
              "      (relu): ReLU(inplace=True)\n",
              "      (conv2): Conv2d(256, 256, kernel_size=(3, 3), stride=(1, 1), padding=(1, 1), bias=False)\n",
              "      (bn2): BatchNorm2d(256, eps=1e-05, momentum=0.1, affine=True, track_running_stats=True)\n",
              "      (downsample): Sequential(\n",
              "        (0): Conv2d(128, 256, kernel_size=(1, 1), stride=(2, 2), bias=False)\n",
              "        (1): BatchNorm2d(256, eps=1e-05, momentum=0.1, affine=True, track_running_stats=True)\n",
              "      )\n",
              "    )\n",
              "    (1): BasicBlock(\n",
              "      (conv1): Conv2d(256, 256, kernel_size=(3, 3), stride=(1, 1), padding=(1, 1), bias=False)\n",
              "      (bn1): BatchNorm2d(256, eps=1e-05, momentum=0.1, affine=True, track_running_stats=True)\n",
              "      (relu): ReLU(inplace=True)\n",
              "      (conv2): Conv2d(256, 256, kernel_size=(3, 3), stride=(1, 1), padding=(1, 1), bias=False)\n",
              "      (bn2): BatchNorm2d(256, eps=1e-05, momentum=0.1, affine=True, track_running_stats=True)\n",
              "    )\n",
              "  )\n",
              "  (layer4): Sequential(\n",
              "    (0): BasicBlock(\n",
              "      (conv1): Conv2d(256, 512, kernel_size=(3, 3), stride=(2, 2), padding=(1, 1), bias=False)\n",
              "      (bn1): BatchNorm2d(512, eps=1e-05, momentum=0.1, affine=True, track_running_stats=True)\n",
              "      (relu): ReLU(inplace=True)\n",
              "      (conv2): Conv2d(512, 512, kernel_size=(3, 3), stride=(1, 1), padding=(1, 1), bias=False)\n",
              "      (bn2): BatchNorm2d(512, eps=1e-05, momentum=0.1, affine=True, track_running_stats=True)\n",
              "      (downsample): Sequential(\n",
              "        (0): Conv2d(256, 512, kernel_size=(1, 1), stride=(2, 2), bias=False)\n",
              "        (1): BatchNorm2d(512, eps=1e-05, momentum=0.1, affine=True, track_running_stats=True)\n",
              "      )\n",
              "    )\n",
              "    (1): BasicBlock(\n",
              "      (conv1): Conv2d(512, 512, kernel_size=(3, 3), stride=(1, 1), padding=(1, 1), bias=False)\n",
              "      (bn1): BatchNorm2d(512, eps=1e-05, momentum=0.1, affine=True, track_running_stats=True)\n",
              "      (relu): ReLU(inplace=True)\n",
              "      (conv2): Conv2d(512, 512, kernel_size=(3, 3), stride=(1, 1), padding=(1, 1), bias=False)\n",
              "      (bn2): BatchNorm2d(512, eps=1e-05, momentum=0.1, affine=True, track_running_stats=True)\n",
              "    )\n",
              "  )\n",
              "  (avgpool): AdaptiveAvgPool2d(output_size=(1, 1))\n",
              "  (fc): Linear(in_features=512, out_features=1000, bias=True)\n",
              ")"
            ]
          },
          "execution_count": 4,
          "metadata": {},
          "output_type": "execute_result"
        }
      ],
      "source": [
        "res18"
      ]
    },
    {
      "cell_type": "code",
      "execution_count": null,
      "metadata": {
        "colab": {
          "base_uri": "https://localhost:8080/"
        },
        "id": "q0YnTwxqBuTI",
        "outputId": "b047c45b-4d57-4ce9-d002-b4beeab97c1e"
      },
      "outputs": [
        {
          "data": {
            "text/plain": [
              "ResNet(\n",
              "  (conv1): Conv2d(3, 64, kernel_size=(7, 7), stride=(2, 2), padding=(3, 3), bias=False)\n",
              "  (bn1): BatchNorm2d(64, eps=1e-05, momentum=0.1, affine=True, track_running_stats=True)\n",
              "  (relu): ReLU(inplace=True)\n",
              "  (maxpool): MaxPool2d(kernel_size=3, stride=2, padding=1, dilation=1, ceil_mode=False)\n",
              "  (layer1): Sequential(\n",
              "    (0): BasicBlock(\n",
              "      (conv1): Conv2d(64, 64, kernel_size=(3, 3), stride=(1, 1), padding=(1, 1), bias=False)\n",
              "      (bn1): BatchNorm2d(64, eps=1e-05, momentum=0.1, affine=True, track_running_stats=True)\n",
              "      (relu): ReLU(inplace=True)\n",
              "      (conv2): Conv2d(64, 64, kernel_size=(3, 3), stride=(1, 1), padding=(1, 1), bias=False)\n",
              "      (bn2): BatchNorm2d(64, eps=1e-05, momentum=0.1, affine=True, track_running_stats=True)\n",
              "    )\n",
              "    (1): BasicBlock(\n",
              "      (conv1): Conv2d(64, 64, kernel_size=(3, 3), stride=(1, 1), padding=(1, 1), bias=False)\n",
              "      (bn1): BatchNorm2d(64, eps=1e-05, momentum=0.1, affine=True, track_running_stats=True)\n",
              "      (relu): ReLU(inplace=True)\n",
              "      (conv2): Conv2d(64, 64, kernel_size=(3, 3), stride=(1, 1), padding=(1, 1), bias=False)\n",
              "      (bn2): BatchNorm2d(64, eps=1e-05, momentum=0.1, affine=True, track_running_stats=True)\n",
              "    )\n",
              "  )\n",
              "  (layer2): Sequential(\n",
              "    (0): BasicBlock(\n",
              "      (conv1): Conv2d(64, 128, kernel_size=(3, 3), stride=(2, 2), padding=(1, 1), bias=False)\n",
              "      (bn1): BatchNorm2d(128, eps=1e-05, momentum=0.1, affine=True, track_running_stats=True)\n",
              "      (relu): ReLU(inplace=True)\n",
              "      (conv2): Conv2d(128, 128, kernel_size=(3, 3), stride=(1, 1), padding=(1, 1), bias=False)\n",
              "      (bn2): BatchNorm2d(128, eps=1e-05, momentum=0.1, affine=True, track_running_stats=True)\n",
              "      (downsample): Sequential(\n",
              "        (0): Conv2d(64, 128, kernel_size=(1, 1), stride=(2, 2), bias=False)\n",
              "        (1): BatchNorm2d(128, eps=1e-05, momentum=0.1, affine=True, track_running_stats=True)\n",
              "      )\n",
              "    )\n",
              "    (1): BasicBlock(\n",
              "      (conv1): Conv2d(128, 128, kernel_size=(3, 3), stride=(1, 1), padding=(1, 1), bias=False)\n",
              "      (bn1): BatchNorm2d(128, eps=1e-05, momentum=0.1, affine=True, track_running_stats=True)\n",
              "      (relu): ReLU(inplace=True)\n",
              "      (conv2): Conv2d(128, 128, kernel_size=(3, 3), stride=(1, 1), padding=(1, 1), bias=False)\n",
              "      (bn2): BatchNorm2d(128, eps=1e-05, momentum=0.1, affine=True, track_running_stats=True)\n",
              "    )\n",
              "  )\n",
              "  (layer3): Sequential(\n",
              "    (0): BasicBlock(\n",
              "      (conv1): Conv2d(128, 256, kernel_size=(3, 3), stride=(2, 2), padding=(1, 1), bias=False)\n",
              "      (bn1): BatchNorm2d(256, eps=1e-05, momentum=0.1, affine=True, track_running_stats=True)\n",
              "      (relu): ReLU(inplace=True)\n",
              "      (conv2): Conv2d(256, 256, kernel_size=(3, 3), stride=(1, 1), padding=(1, 1), bias=False)\n",
              "      (bn2): BatchNorm2d(256, eps=1e-05, momentum=0.1, affine=True, track_running_stats=True)\n",
              "      (downsample): Sequential(\n",
              "        (0): Conv2d(128, 256, kernel_size=(1, 1), stride=(2, 2), bias=False)\n",
              "        (1): BatchNorm2d(256, eps=1e-05, momentum=0.1, affine=True, track_running_stats=True)\n",
              "      )\n",
              "    )\n",
              "    (1): BasicBlock(\n",
              "      (conv1): Conv2d(256, 256, kernel_size=(3, 3), stride=(1, 1), padding=(1, 1), bias=False)\n",
              "      (bn1): BatchNorm2d(256, eps=1e-05, momentum=0.1, affine=True, track_running_stats=True)\n",
              "      (relu): ReLU(inplace=True)\n",
              "      (conv2): Conv2d(256, 256, kernel_size=(3, 3), stride=(1, 1), padding=(1, 1), bias=False)\n",
              "      (bn2): BatchNorm2d(256, eps=1e-05, momentum=0.1, affine=True, track_running_stats=True)\n",
              "    )\n",
              "  )\n",
              "  (layer4): Sequential(\n",
              "    (0): BasicBlock(\n",
              "      (conv1): Conv2d(256, 512, kernel_size=(3, 3), stride=(2, 2), padding=(1, 1), bias=False)\n",
              "      (bn1): BatchNorm2d(512, eps=1e-05, momentum=0.1, affine=True, track_running_stats=True)\n",
              "      (relu): ReLU(inplace=True)\n",
              "      (conv2): Conv2d(512, 512, kernel_size=(3, 3), stride=(1, 1), padding=(1, 1), bias=False)\n",
              "      (bn2): BatchNorm2d(512, eps=1e-05, momentum=0.1, affine=True, track_running_stats=True)\n",
              "      (downsample): Sequential(\n",
              "        (0): Conv2d(256, 512, kernel_size=(1, 1), stride=(2, 2), bias=False)\n",
              "        (1): BatchNorm2d(512, eps=1e-05, momentum=0.1, affine=True, track_running_stats=True)\n",
              "      )\n",
              "    )\n",
              "    (1): BasicBlock(\n",
              "      (conv1): Conv2d(512, 512, kernel_size=(3, 3), stride=(1, 1), padding=(1, 1), bias=False)\n",
              "      (bn1): BatchNorm2d(512, eps=1e-05, momentum=0.1, affine=True, track_running_stats=True)\n",
              "      (relu): ReLU(inplace=True)\n",
              "      (conv2): Conv2d(512, 512, kernel_size=(3, 3), stride=(1, 1), padding=(1, 1), bias=False)\n",
              "      (bn2): BatchNorm2d(512, eps=1e-05, momentum=0.1, affine=True, track_running_stats=True)\n",
              "    )\n",
              "  )\n",
              "  (avgpool): AdaptiveAvgPool2d(output_size=(1, 1))\n",
              "  (fc): Linear(in_features=512, out_features=1000, bias=True)\n",
              ")"
            ]
          },
          "execution_count": 7,
          "metadata": {},
          "output_type": "execute_result"
        }
      ],
      "source": [
        "res18"
      ]
    },
    {
      "cell_type": "code",
      "execution_count": null,
      "metadata": {
        "id": "OnktpPp5B0uf"
      },
      "outputs": [],
      "source": [
        ""
      ]
    }
  ],
  "metadata": {
    "colab": {
      "collapsed_sections": [],
      "name": "Face_detection.ipynb",
      "provenance": [],
      "mount_file_id": "https://github.com/ThOpaque/HomeMade_FaceID/blob/main/FaceDetection.ipynb",
      "authorship_tag": "ABX9TyPWinBN4bqoFkAA/XEqFXIk"
    },
    "kernelspec": {
      "display_name": "Python 3",
      "name": "python3"
    },
    "language_info": {
      "name": "python"
    },
    "widgets": {
      "application/vnd.jupyter.widget-state+json": {
        "053e107f70af40dfbd4a8890567a58b5": {
          "model_module": "@jupyter-widgets/controls",
          "model_module_version": "1.5.0",
          "model_name": "ProgressStyleModel",
          "state": {
            "_model_module": "@jupyter-widgets/controls",
            "_model_module_version": "1.5.0",
            "_model_name": "ProgressStyleModel",
            "_view_count": null,
            "_view_module": "@jupyter-widgets/base",
            "_view_module_version": "1.2.0",
            "_view_name": "StyleView",
            "bar_color": null,
            "description_width": ""
          }
        },
        "0c7d2138828d49289eedd4b839632aad": {
          "model_module": "@jupyter-widgets/controls",
          "model_module_version": "1.5.0",
          "model_name": "DescriptionStyleModel",
          "state": {
            "_model_module": "@jupyter-widgets/controls",
            "_model_module_version": "1.5.0",
            "_model_name": "DescriptionStyleModel",
            "_view_count": null,
            "_view_module": "@jupyter-widgets/base",
            "_view_module_version": "1.2.0",
            "_view_name": "StyleView",
            "description_width": ""
          }
        },
        "0c986a5fcd4c4e648a5d172416743f1d": {
          "model_module": "@jupyter-widgets/controls",
          "model_module_version": "1.5.0",
          "model_name": "HTMLModel",
          "state": {
            "_dom_classes": [],
            "_model_module": "@jupyter-widgets/controls",
            "_model_module_version": "1.5.0",
            "_model_name": "HTMLModel",
            "_view_count": null,
            "_view_module": "@jupyter-widgets/controls",
            "_view_module_version": "1.5.0",
            "_view_name": "HTMLView",
            "description": "",
            "description_tooltip": null,
            "layout": "IPY_MODEL_c4268414c8e0432eaabc07a5e1388cb1",
            "placeholder": "​",
            "style": "IPY_MODEL_454043362df747e38847b07bcb00f530",
            "value": "100%"
          }
        },
        "454043362df747e38847b07bcb00f530": {
          "model_module": "@jupyter-widgets/controls",
          "model_module_version": "1.5.0",
          "model_name": "DescriptionStyleModel",
          "state": {
            "_model_module": "@jupyter-widgets/controls",
            "_model_module_version": "1.5.0",
            "_model_name": "DescriptionStyleModel",
            "_view_count": null,
            "_view_module": "@jupyter-widgets/base",
            "_view_module_version": "1.2.0",
            "_view_name": "StyleView",
            "description_width": ""
          }
        },
        "48a4d05996034510842c3fb754cbaae4": {
          "model_module": "@jupyter-widgets/controls",
          "model_module_version": "1.5.0",
          "model_name": "HBoxModel",
          "state": {
            "_dom_classes": [],
            "_model_module": "@jupyter-widgets/controls",
            "_model_module_version": "1.5.0",
            "_model_name": "HBoxModel",
            "_view_count": null,
            "_view_module": "@jupyter-widgets/controls",
            "_view_module_version": "1.5.0",
            "_view_name": "HBoxView",
            "box_style": "",
            "children": [
              "IPY_MODEL_0c986a5fcd4c4e648a5d172416743f1d",
              "IPY_MODEL_dc6a6acf6d784383a2ee14e946b3e9df",
              "IPY_MODEL_9134a56d65e44920b934415282059717"
            ],
            "layout": "IPY_MODEL_726fab65e7824292b0f2c26c40e60bf9"
          }
        },
        "726fab65e7824292b0f2c26c40e60bf9": {
          "model_module": "@jupyter-widgets/base",
          "model_module_version": "1.2.0",
          "model_name": "LayoutModel",
          "state": {
            "_model_module": "@jupyter-widgets/base",
            "_model_module_version": "1.2.0",
            "_model_name": "LayoutModel",
            "_view_count": null,
            "_view_module": "@jupyter-widgets/base",
            "_view_module_version": "1.2.0",
            "_view_name": "LayoutView",
            "align_content": null,
            "align_items": null,
            "align_self": null,
            "border": null,
            "bottom": null,
            "display": null,
            "flex": null,
            "flex_flow": null,
            "grid_area": null,
            "grid_auto_columns": null,
            "grid_auto_flow": null,
            "grid_auto_rows": null,
            "grid_column": null,
            "grid_gap": null,
            "grid_row": null,
            "grid_template_areas": null,
            "grid_template_columns": null,
            "grid_template_rows": null,
            "height": null,
            "justify_content": null,
            "justify_items": null,
            "left": null,
            "margin": null,
            "max_height": null,
            "max_width": null,
            "min_height": null,
            "min_width": null,
            "object_fit": null,
            "object_position": null,
            "order": null,
            "overflow": null,
            "overflow_x": null,
            "overflow_y": null,
            "padding": null,
            "right": null,
            "top": null,
            "visibility": null,
            "width": null
          }
        },
        "9134a56d65e44920b934415282059717": {
          "model_module": "@jupyter-widgets/controls",
          "model_module_version": "1.5.0",
          "model_name": "HTMLModel",
          "state": {
            "_dom_classes": [],
            "_model_module": "@jupyter-widgets/controls",
            "_model_module_version": "1.5.0",
            "_model_name": "HTMLModel",
            "_view_count": null,
            "_view_module": "@jupyter-widgets/controls",
            "_view_module_version": "1.5.0",
            "_view_name": "HTMLView",
            "description": "",
            "description_tooltip": null,
            "layout": "IPY_MODEL_d3f8672711874208b71bc31e063e6fec",
            "placeholder": "​",
            "style": "IPY_MODEL_0c7d2138828d49289eedd4b839632aad",
            "value": " 44.7M/44.7M [00:00&lt;00:00, 139MB/s]"
          }
        },
        "959072464d8543a0915a238b779982de": {
          "model_module": "@jupyter-widgets/base",
          "model_module_version": "1.2.0",
          "model_name": "LayoutModel",
          "state": {
            "_model_module": "@jupyter-widgets/base",
            "_model_module_version": "1.2.0",
            "_model_name": "LayoutModel",
            "_view_count": null,
            "_view_module": "@jupyter-widgets/base",
            "_view_module_version": "1.2.0",
            "_view_name": "LayoutView",
            "align_content": null,
            "align_items": null,
            "align_self": null,
            "border": null,
            "bottom": null,
            "display": null,
            "flex": null,
            "flex_flow": null,
            "grid_area": null,
            "grid_auto_columns": null,
            "grid_auto_flow": null,
            "grid_auto_rows": null,
            "grid_column": null,
            "grid_gap": null,
            "grid_row": null,
            "grid_template_areas": null,
            "grid_template_columns": null,
            "grid_template_rows": null,
            "height": null,
            "justify_content": null,
            "justify_items": null,
            "left": null,
            "margin": null,
            "max_height": null,
            "max_width": null,
            "min_height": null,
            "min_width": null,
            "object_fit": null,
            "object_position": null,
            "order": null,
            "overflow": null,
            "overflow_x": null,
            "overflow_y": null,
            "padding": null,
            "right": null,
            "top": null,
            "visibility": null,
            "width": null
          }
        },
        "c4268414c8e0432eaabc07a5e1388cb1": {
          "model_module": "@jupyter-widgets/base",
          "model_module_version": "1.2.0",
          "model_name": "LayoutModel",
          "state": {
            "_model_module": "@jupyter-widgets/base",
            "_model_module_version": "1.2.0",
            "_model_name": "LayoutModel",
            "_view_count": null,
            "_view_module": "@jupyter-widgets/base",
            "_view_module_version": "1.2.0",
            "_view_name": "LayoutView",
            "align_content": null,
            "align_items": null,
            "align_self": null,
            "border": null,
            "bottom": null,
            "display": null,
            "flex": null,
            "flex_flow": null,
            "grid_area": null,
            "grid_auto_columns": null,
            "grid_auto_flow": null,
            "grid_auto_rows": null,
            "grid_column": null,
            "grid_gap": null,
            "grid_row": null,
            "grid_template_areas": null,
            "grid_template_columns": null,
            "grid_template_rows": null,
            "height": null,
            "justify_content": null,
            "justify_items": null,
            "left": null,
            "margin": null,
            "max_height": null,
            "max_width": null,
            "min_height": null,
            "min_width": null,
            "object_fit": null,
            "object_position": null,
            "order": null,
            "overflow": null,
            "overflow_x": null,
            "overflow_y": null,
            "padding": null,
            "right": null,
            "top": null,
            "visibility": null,
            "width": null
          }
        },
        "d3f8672711874208b71bc31e063e6fec": {
          "model_module": "@jupyter-widgets/base",
          "model_module_version": "1.2.0",
          "model_name": "LayoutModel",
          "state": {
            "_model_module": "@jupyter-widgets/base",
            "_model_module_version": "1.2.0",
            "_model_name": "LayoutModel",
            "_view_count": null,
            "_view_module": "@jupyter-widgets/base",
            "_view_module_version": "1.2.0",
            "_view_name": "LayoutView",
            "align_content": null,
            "align_items": null,
            "align_self": null,
            "border": null,
            "bottom": null,
            "display": null,
            "flex": null,
            "flex_flow": null,
            "grid_area": null,
            "grid_auto_columns": null,
            "grid_auto_flow": null,
            "grid_auto_rows": null,
            "grid_column": null,
            "grid_gap": null,
            "grid_row": null,
            "grid_template_areas": null,
            "grid_template_columns": null,
            "grid_template_rows": null,
            "height": null,
            "justify_content": null,
            "justify_items": null,
            "left": null,
            "margin": null,
            "max_height": null,
            "max_width": null,
            "min_height": null,
            "min_width": null,
            "object_fit": null,
            "object_position": null,
            "order": null,
            "overflow": null,
            "overflow_x": null,
            "overflow_y": null,
            "padding": null,
            "right": null,
            "top": null,
            "visibility": null,
            "width": null
          }
        },
        "dc6a6acf6d784383a2ee14e946b3e9df": {
          "model_module": "@jupyter-widgets/controls",
          "model_module_version": "1.5.0",
          "model_name": "FloatProgressModel",
          "state": {
            "_dom_classes": [],
            "_model_module": "@jupyter-widgets/controls",
            "_model_module_version": "1.5.0",
            "_model_name": "FloatProgressModel",
            "_view_count": null,
            "_view_module": "@jupyter-widgets/controls",
            "_view_module_version": "1.5.0",
            "_view_name": "ProgressView",
            "bar_style": "success",
            "description": "",
            "description_tooltip": null,
            "layout": "IPY_MODEL_959072464d8543a0915a238b779982de",
            "max": 46830571,
            "min": 0,
            "orientation": "horizontal",
            "style": "IPY_MODEL_053e107f70af40dfbd4a8890567a58b5",
            "value": 46830571
          }
        },
        "32e2a52a05e24d60b7548433155e72ae": {
          "model_module": "@jupyter-widgets/controls",
          "model_name": "HBoxModel",
          "model_module_version": "1.5.0",
          "state": {
            "_dom_classes": [],
            "_model_module": "@jupyter-widgets/controls",
            "_model_module_version": "1.5.0",
            "_model_name": "HBoxModel",
            "_view_count": null,
            "_view_module": "@jupyter-widgets/controls",
            "_view_module_version": "1.5.0",
            "_view_name": "HBoxView",
            "box_style": "",
            "children": [
              "IPY_MODEL_505db89d72b34a34971291ccfaf0b3ff",
              "IPY_MODEL_4c553a6a3c224c07b42016e31ac7285d",
              "IPY_MODEL_c58a474359344e4e9944c2115121cf7d"
            ],
            "layout": "IPY_MODEL_4f205a6e23cd4a12947ea64ef1dc986e"
          }
        },
        "505db89d72b34a34971291ccfaf0b3ff": {
          "model_module": "@jupyter-widgets/controls",
          "model_name": "HTMLModel",
          "model_module_version": "1.5.0",
          "state": {
            "_dom_classes": [],
            "_model_module": "@jupyter-widgets/controls",
            "_model_module_version": "1.5.0",
            "_model_name": "HTMLModel",
            "_view_count": null,
            "_view_module": "@jupyter-widgets/controls",
            "_view_module_version": "1.5.0",
            "_view_name": "HTMLView",
            "description": "",
            "description_tooltip": null,
            "layout": "IPY_MODEL_fa83ab9de4374921853df19db53dded8",
            "placeholder": "​",
            "style": "IPY_MODEL_439e24adee154320b79b7cac83c53a30",
            "value": "100%"
          }
        },
        "4c553a6a3c224c07b42016e31ac7285d": {
          "model_module": "@jupyter-widgets/controls",
          "model_name": "FloatProgressModel",
          "model_module_version": "1.5.0",
          "state": {
            "_dom_classes": [],
            "_model_module": "@jupyter-widgets/controls",
            "_model_module_version": "1.5.0",
            "_model_name": "FloatProgressModel",
            "_view_count": null,
            "_view_module": "@jupyter-widgets/controls",
            "_view_module_version": "1.5.0",
            "_view_name": "ProgressView",
            "bar_style": "success",
            "description": "",
            "description_tooltip": null,
            "layout": "IPY_MODEL_ac34c26b2cdf4c1493da71ed7e5410f0",
            "max": 102530333,
            "min": 0,
            "orientation": "horizontal",
            "style": "IPY_MODEL_2c7a8660130e40bbab6de68e755ca128",
            "value": 102530333
          }
        },
        "c58a474359344e4e9944c2115121cf7d": {
          "model_module": "@jupyter-widgets/controls",
          "model_name": "HTMLModel",
          "model_module_version": "1.5.0",
          "state": {
            "_dom_classes": [],
            "_model_module": "@jupyter-widgets/controls",
            "_model_module_version": "1.5.0",
            "_model_name": "HTMLModel",
            "_view_count": null,
            "_view_module": "@jupyter-widgets/controls",
            "_view_module_version": "1.5.0",
            "_view_name": "HTMLView",
            "description": "",
            "description_tooltip": null,
            "layout": "IPY_MODEL_0fc7e5f1d6274e0da948779e948627e3",
            "placeholder": "​",
            "style": "IPY_MODEL_c913ab7aad7e49a79fde819c99acd1a4",
            "value": " 97.8M/97.8M [00:01&lt;00:00, 135MB/s]"
          }
        },
        "4f205a6e23cd4a12947ea64ef1dc986e": {
          "model_module": "@jupyter-widgets/base",
          "model_name": "LayoutModel",
          "model_module_version": "1.2.0",
          "state": {
            "_model_module": "@jupyter-widgets/base",
            "_model_module_version": "1.2.0",
            "_model_name": "LayoutModel",
            "_view_count": null,
            "_view_module": "@jupyter-widgets/base",
            "_view_module_version": "1.2.0",
            "_view_name": "LayoutView",
            "align_content": null,
            "align_items": null,
            "align_self": null,
            "border": null,
            "bottom": null,
            "display": null,
            "flex": null,
            "flex_flow": null,
            "grid_area": null,
            "grid_auto_columns": null,
            "grid_auto_flow": null,
            "grid_auto_rows": null,
            "grid_column": null,
            "grid_gap": null,
            "grid_row": null,
            "grid_template_areas": null,
            "grid_template_columns": null,
            "grid_template_rows": null,
            "height": null,
            "justify_content": null,
            "justify_items": null,
            "left": null,
            "margin": null,
            "max_height": null,
            "max_width": null,
            "min_height": null,
            "min_width": null,
            "object_fit": null,
            "object_position": null,
            "order": null,
            "overflow": null,
            "overflow_x": null,
            "overflow_y": null,
            "padding": null,
            "right": null,
            "top": null,
            "visibility": null,
            "width": null
          }
        },
        "fa83ab9de4374921853df19db53dded8": {
          "model_module": "@jupyter-widgets/base",
          "model_name": "LayoutModel",
          "model_module_version": "1.2.0",
          "state": {
            "_model_module": "@jupyter-widgets/base",
            "_model_module_version": "1.2.0",
            "_model_name": "LayoutModel",
            "_view_count": null,
            "_view_module": "@jupyter-widgets/base",
            "_view_module_version": "1.2.0",
            "_view_name": "LayoutView",
            "align_content": null,
            "align_items": null,
            "align_self": null,
            "border": null,
            "bottom": null,
            "display": null,
            "flex": null,
            "flex_flow": null,
            "grid_area": null,
            "grid_auto_columns": null,
            "grid_auto_flow": null,
            "grid_auto_rows": null,
            "grid_column": null,
            "grid_gap": null,
            "grid_row": null,
            "grid_template_areas": null,
            "grid_template_columns": null,
            "grid_template_rows": null,
            "height": null,
            "justify_content": null,
            "justify_items": null,
            "left": null,
            "margin": null,
            "max_height": null,
            "max_width": null,
            "min_height": null,
            "min_width": null,
            "object_fit": null,
            "object_position": null,
            "order": null,
            "overflow": null,
            "overflow_x": null,
            "overflow_y": null,
            "padding": null,
            "right": null,
            "top": null,
            "visibility": null,
            "width": null
          }
        },
        "439e24adee154320b79b7cac83c53a30": {
          "model_module": "@jupyter-widgets/controls",
          "model_name": "DescriptionStyleModel",
          "model_module_version": "1.5.0",
          "state": {
            "_model_module": "@jupyter-widgets/controls",
            "_model_module_version": "1.5.0",
            "_model_name": "DescriptionStyleModel",
            "_view_count": null,
            "_view_module": "@jupyter-widgets/base",
            "_view_module_version": "1.2.0",
            "_view_name": "StyleView",
            "description_width": ""
          }
        },
        "ac34c26b2cdf4c1493da71ed7e5410f0": {
          "model_module": "@jupyter-widgets/base",
          "model_name": "LayoutModel",
          "model_module_version": "1.2.0",
          "state": {
            "_model_module": "@jupyter-widgets/base",
            "_model_module_version": "1.2.0",
            "_model_name": "LayoutModel",
            "_view_count": null,
            "_view_module": "@jupyter-widgets/base",
            "_view_module_version": "1.2.0",
            "_view_name": "LayoutView",
            "align_content": null,
            "align_items": null,
            "align_self": null,
            "border": null,
            "bottom": null,
            "display": null,
            "flex": null,
            "flex_flow": null,
            "grid_area": null,
            "grid_auto_columns": null,
            "grid_auto_flow": null,
            "grid_auto_rows": null,
            "grid_column": null,
            "grid_gap": null,
            "grid_row": null,
            "grid_template_areas": null,
            "grid_template_columns": null,
            "grid_template_rows": null,
            "height": null,
            "justify_content": null,
            "justify_items": null,
            "left": null,
            "margin": null,
            "max_height": null,
            "max_width": null,
            "min_height": null,
            "min_width": null,
            "object_fit": null,
            "object_position": null,
            "order": null,
            "overflow": null,
            "overflow_x": null,
            "overflow_y": null,
            "padding": null,
            "right": null,
            "top": null,
            "visibility": null,
            "width": null
          }
        },
        "2c7a8660130e40bbab6de68e755ca128": {
          "model_module": "@jupyter-widgets/controls",
          "model_name": "ProgressStyleModel",
          "model_module_version": "1.5.0",
          "state": {
            "_model_module": "@jupyter-widgets/controls",
            "_model_module_version": "1.5.0",
            "_model_name": "ProgressStyleModel",
            "_view_count": null,
            "_view_module": "@jupyter-widgets/base",
            "_view_module_version": "1.2.0",
            "_view_name": "StyleView",
            "bar_color": null,
            "description_width": ""
          }
        },
        "0fc7e5f1d6274e0da948779e948627e3": {
          "model_module": "@jupyter-widgets/base",
          "model_name": "LayoutModel",
          "model_module_version": "1.2.0",
          "state": {
            "_model_module": "@jupyter-widgets/base",
            "_model_module_version": "1.2.0",
            "_model_name": "LayoutModel",
            "_view_count": null,
            "_view_module": "@jupyter-widgets/base",
            "_view_module_version": "1.2.0",
            "_view_name": "LayoutView",
            "align_content": null,
            "align_items": null,
            "align_self": null,
            "border": null,
            "bottom": null,
            "display": null,
            "flex": null,
            "flex_flow": null,
            "grid_area": null,
            "grid_auto_columns": null,
            "grid_auto_flow": null,
            "grid_auto_rows": null,
            "grid_column": null,
            "grid_gap": null,
            "grid_row": null,
            "grid_template_areas": null,
            "grid_template_columns": null,
            "grid_template_rows": null,
            "height": null,
            "justify_content": null,
            "justify_items": null,
            "left": null,
            "margin": null,
            "max_height": null,
            "max_width": null,
            "min_height": null,
            "min_width": null,
            "object_fit": null,
            "object_position": null,
            "order": null,
            "overflow": null,
            "overflow_x": null,
            "overflow_y": null,
            "padding": null,
            "right": null,
            "top": null,
            "visibility": null,
            "width": null
          }
        },
        "c913ab7aad7e49a79fde819c99acd1a4": {
          "model_module": "@jupyter-widgets/controls",
          "model_name": "DescriptionStyleModel",
          "model_module_version": "1.5.0",
          "state": {
            "_model_module": "@jupyter-widgets/controls",
            "_model_module_version": "1.5.0",
            "_model_name": "DescriptionStyleModel",
            "_view_count": null,
            "_view_module": "@jupyter-widgets/base",
            "_view_module_version": "1.2.0",
            "_view_name": "StyleView",
            "description_width": ""
          }
        }
      }
    }
  },
  "nbformat": 4,
  "nbformat_minor": 0
}