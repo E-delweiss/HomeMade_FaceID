{
  "cells": [
    {
      "cell_type": "markdown",
      "metadata": {
        "id": "aD0UzBIX17JX"
      },
      "source": [
        "# Building our own Face Detection model\n",
        "\n",
        "This model comes along my \"FaceID project\". It's the first part of this project which should classify if a photo contains a face or no. \n",
        "\n",
        "It's a binary classification and uses the bases of a ResNet50 model (pretrained on [ImageNet](https://image-net.org/)) and then, fine tuned with faces drawn from the [LFW database](http://vis-www.cs.umass.edu/lfw/) and backgrounds drawn from [House Rooms dataset](https://www.kaggle.com/datasets/robinreni/house-rooms-image-dataset). \n",
        "\n",
        "This model is known as a *face detection* model (opposed to a *face recognition* model which will see in detail in the next part). It classifies whether there is a face (a person) or not in a image. The output of the model is binary (0 or 1) where 0 means there is no face and 1 there is a face."
      ]
    },
    {
      "cell_type": "markdown",
      "source": [
        "# Import"
      ],
      "metadata": {
        "id": "V2zJOYnZEkR1"
      }
    },
    {
      "cell_type": "code",
      "execution_count": null,
      "metadata": {
        "id": "ZJdox8nPbugJ",
        "outputId": "08d8013d-3cdc-44b8-ceb4-2c3bac2074f4"
      },
      "outputs": [
        {
          "name": "stderr",
          "output_type": "stream",
          "text": [
            "/Users/thierryksstentini/opt/miniforge3/lib/python3.9/site-packages/tqdm/auto.py:22: TqdmWarning: IProgress not found. Please update jupyter and ipywidgets. See https://ipywidgets.readthedocs.io/en/stable/user_install.html\n",
            "  from .autonotebook import tqdm as notebook_tqdm\n"
          ]
        }
      ],
      "source": [
        "import os\n",
        "\n",
        "import numpy as np\n",
        "import glob\n",
        "import pickle\n",
        "import tqdm\n",
        "import random as rd\n",
        "import time\n",
        "\n",
        "import torch\n",
        "from torchinfo import summary\n",
        "from torch.utils.data import DataLoader\n",
        "from torch.utils.data import Dataset\n",
        "\n",
        "import torchvision\n",
        "import torchvision.transforms\n",
        "\n",
        "from PIL import Image"
      ]
    },
    {
      "cell_type": "code",
      "execution_count": null,
      "metadata": {
        "id": "0L1DXFKxpc2S"
      },
      "outputs": [],
      "source": [
        "class FaceDetection_dataset(Dataset):\n",
        "    def __init__(self, imgset_face:list, imgset_noface:list, val_stride:int=0, isValSet_bool:bool=False, \n",
        "                 isAugment_bool:bool=False, isNormalize_bool:bool=False):\n",
        "        \"\"\"\n",
        "        Class that build the dataset to feed the Pytorch Dataloader \n",
        "\n",
        "        -------------------\n",
        "        Class attributs:\n",
        "            imgset_face: list of PIL images\n",
        "                The list of PIL images with face in it\n",
        "            imgset_face: list of PIL images.\n",
        "                The list of PIL images without face in it (typically random\n",
        "                background found in the 'houseroom dataset').\n",
        "            val_stride: int\n",
        "                Use to select training images and validation images without data\n",
        "                leaks.\n",
        "            isValSet_bool: bool\n",
        "                Boolean to construct a validation dataset\n",
        "            isAugment_bool: bool\n",
        "                Boolean to activate the data augmentation preprocessing\n",
        "            isNormalize_bool: bool\n",
        "                Boolean to activate normalization of each image by its own mean\n",
        "                and std values.\n",
        "        \"\"\"\n",
        "        \n",
        "        self.isAugment_bool = isAugment_bool\n",
        "        self.isNormalize_bool = isNormalize_bool\n",
        "        \n",
        "        self.imgset = imgset_face + imgset_noface        \n",
        "        \n",
        "        label_face = np.ones(len(imgset_face)).tolist()\n",
        "        label_noface = np.zeros(len(imgset_noface)).tolist()\n",
        "        self.labelset = label_face + label_noface\n",
        "        \n",
        "        if isValSet_bool:\n",
        "            assert val_stride > 0, 'val_stride should be greater than zero'\n",
        "            self.imgset = self.imgset[::val_stride]\n",
        "            self.labelset = self.labelset[::val_stride]\n",
        "       \n",
        "        elif val_stride > 0:\n",
        "            del self.imgset[::val_stride]\n",
        "            del self.labelset[::val_stride]\n",
        "\n",
        "    def preprocess(self, img)->torch.Tensor:\n",
        "        transform = torchvision.transforms.Compose([\n",
        "            torchvision.transforms.Resize((256, 256)), \n",
        "            torchvision.transforms.ToTensor(),\n",
        "            torchvision.transforms.Normalize(mean=[0.485, 0.456, 0.406], std=[0.229, 0.224, 0.225])\n",
        "            ])\n",
        "        img_t = transform(img)\n",
        "        \n",
        "        if self.isAugment_bool:\n",
        "            \"\"\" to do \"\"\"\n",
        "            augment = torchvision.transforms.Compose([\n",
        "                torchvision.transforms.CenterCrop(224),\n",
        "                torchvision.transforms.RandomHorizontalFlip(p=0.5),\n",
        "                torchvision.transforms.RandomRotation(degrees=(-10,10))\n",
        "            ])\n",
        "            img_t = augment(img_t)\n",
        "        \n",
        "\n",
        "        if self.isNormalize_bool:\n",
        "            mean, std = img_t.mean(), img_t.std()\n",
        "            img_t = (img_t - mean) / std\n",
        "\n",
        "        return img_t\n",
        "\n",
        "\n",
        "\n",
        "    def __len__(self):\n",
        "        return len(self.imgset)\n",
        "    \n",
        "    def __getitem__(self, idx):\n",
        "        if torch.is_tensor(idx):\n",
        "            idx = idx.tolist()\n",
        "\n",
        "        image = self.imgset[idx]\n",
        "        image = self.preprocess(image)\n",
        "        \n",
        "        label = self.labelset[idx]\n",
        "            \n",
        "        return image, torch.tensor(label).to(torch.float32)\n"
      ]
    },
    {
      "cell_type": "markdown",
      "metadata": {
        "id": "qNVduGWRcVPR"
      },
      "source": [
        "# Loading data"
      ]
    },
    {
      "cell_type": "markdown",
      "metadata": {
        "id": "m_nMN_AjAtib"
      },
      "source": [
        "### Working in the CLOUD"
      ]
    },
    {
      "cell_type": "code",
      "execution_count": null,
      "metadata": {
        "id": "PcYczGcZAtib"
      },
      "outputs": [],
      "source": [
        "### https://www.kaggle.com/datasets/robinreni/house-rooms-image-dataset\n",
        "### http://vis-www.cs.umass.edu/lfw/\n",
        "\n",
        "data_path = '/content/drive/MyDrive/Colab Notebooks'\n",
        "\n",
        "#----------------------------- Loading images with a face ---------------------#\n",
        "#imgset_face_path = glob.glob(data_path + '/face_verification/*dataset/*lfw/*/*')\n",
        "#imgset_face_PIL = [Image.open(k).convert('RGB') for k in imgset_face_path]\n",
        "with open(data_path + '/face_verification/dataset/dataset_augmented/lfw_PIL.pkl', 'rb') as lfw_PIL:\n",
        "    imgset_face_PIL = pickle.load(lfw_PIL)\n",
        "\n",
        "\n",
        "#----------------------------- Loading images without face --------------------#\n",
        "#imgset_noface_path = glob.glob(data_path + '/face_verification/*dataset/*houseroom/*/*')\n",
        "#imgset_noface_PIL = [Image.open(k).convert('RGB') for k in imgset_noface_path]\n",
        "with open(data_path + '/face_verification/dataset/houseroom/houseroom_3000_PIL.pkl', 'rb') as houseroom_PIL:\n",
        "    imgset_noface_PIL = pickle.load(houseroom_PIL)### https://www.kaggle.com/datasets/robinreni/house-rooms-image-dataset\n",
        "### http://vis-www.cs.umass.edu/lfw/"
      ]
    },
    {
      "cell_type": "markdown",
      "metadata": {
        "id": "M-1Wj4cmAtic"
      },
      "source": [
        "### Working in LOCAL MACHINE"
      ]
    },
    {
      "cell_type": "code",
      "execution_count": null,
      "metadata": {
        "id": "qj4vKVRGAtid"
      },
      "outputs": [],
      "source": [
        "data_path = '/Users/thierryksstentini/Downloads/dataset'\n",
        "\n",
        "#----------------------------- Loading images with a face ---------------------#\n",
        "with open(data_path + '/dataset_augmented/lfw_PIL.pkl', 'rb') as lfw_PIL:\n",
        "    imgset_face_PIL = pickle.load(lfw_PIL)\n",
        "\n",
        "\n",
        "#----------------------------- Loading images without face --------------------#\n",
        "with open(data_path + '/houseroom_3000_PIL.pkl', 'rb') as houseroom_PIL:\n",
        "    imgset_noface_PIL = pickle.load(houseroom_PIL)"
      ]
    },
    {
      "cell_type": "code",
      "execution_count": null,
      "metadata": {
        "id": "J_4D2oPbo2k8"
      },
      "outputs": [],
      "source": [
        "#----------------------------- Creating datasets ------------------------------#\n",
        "dataset_train = FaceDetection_dataset(imgset_face_PIL, imgset_noface_PIL, val_stride=10, isValSet_bool=False, isAugment_bool=True)\n",
        "dataset_val = FaceDetection_dataset(imgset_face_PIL, imgset_noface_PIL, val_stride=10, isValSet_bool=True)\n",
        "\n",
        "del imgset_face_PIL, imgset_noface_PIL\n",
        "\n",
        "#----------------------------- Creating loaders -------------------------------#\n",
        "BATCH_SIZE = 64\n",
        "train_dataloader = DataLoader(dataset_train, batch_size=BATCH_SIZE, shuffle=True)\n",
        "val_dataloader = DataLoader(dataset_val, batch_size=BATCH_SIZE, shuffle=False)"
      ]
    },
    {
      "cell_type": "markdown",
      "metadata": {
        "id": "QfVzyPJKcY50"
      },
      "source": [
        "# Creating the model"
      ]
    },
    {
      "cell_type": "code",
      "execution_count": null,
      "metadata": {
        "id": "qlg65G3rAtif"
      },
      "outputs": [],
      "source": [
        "class resNet50_custom(torch.nn.Module):\n",
        "    def __init__(self):\n",
        "        super(resNet50_custom, self).__init__()\n",
        "        self.res50 = torchvision.models.resnet50(pretrained = True, progress = True)\n",
        "        for param in self.res50.parameters():\n",
        "            param.requires_grad = False\n",
        "        self.res50.fc = nn.Linear(2048, 1)\n",
        "\n",
        "    def forward(self, input):\n",
        "        output = self.res50(input)\n",
        "        return torch.sigmoid(output)\n"
      ]
    },
    {
      "cell_type": "code",
      "execution_count": null,
      "metadata": {
        "id": "xR-FcCXUAtig"
      },
      "outputs": [],
      "source": [
        "#device = torch.device('cuda') if torch.cuda.is_available() else torch.device('cpu')\n",
        "resNet50_model = resNet50_custom()\n",
        "optimizer = torch.optim.Adam(resNet50_model.parameters(), lr=0.001)\n",
        "num_epochs = 3\n",
        "summary(resNet50_model, (32, 3, 224, 224));"
      ]
    },
    {
      "cell_type": "code",
      "execution_count": null,
      "metadata": {
        "id": "dEX52vLYAtig",
        "outputId": "8f0384da-8de9-4ac3-afc1-0f11f2f8cc2b"
      },
      "outputs": [
        {
          "name": "stdout",
          "output_type": "stream",
          "text": [
            "\n",
            "------------------------------------\n",
            "Execute notebook on - mps -\n",
            "------------------------------------\n",
            "\n"
          ]
        }
      ],
      "source": [
        "### Choosing device between CPU or GPU\n",
        "#device = torch.device('cuda') if torch.cuda.is_available() else torch.device('cpu')\n",
        "device = torch.device('mps') if torch.has_mps else torch.device('cpu')\n",
        "print(\"\\n------------------------------------\")\n",
        "print(f\"Execute notebook on - {device} -\")\n",
        "print(\"------------------------------------\\n\")"
      ]
    },
    {
      "cell_type": "markdown",
      "metadata": {
        "id": "E5JlRfaDcfOV"
      },
      "source": [
        "# Building the training loop function"
      ]
    },
    {
      "cell_type": "code",
      "execution_count": null,
      "metadata": {
        "id": "UMXZknaVuWer"
      },
      "outputs": [],
      "source": [
        "def model_loop(model, epochs, trainloader, validloader, optimizer, loss_fn, device):\n",
        "    model.to(device)\n",
        "    train_loss_list = []\n",
        "    valid_loss_list = []\n",
        "    for epoch in range(num_epochs):\n",
        "        print(f\"Epoch {epoch+1} on {device} \\n-------------------------------\")\n",
        "        model.train()\n",
        "        train_loss = 0.0\n",
        "        size = len(trainloader.dataset)\n",
        "        \n",
        "        for batch, (data, labels) in enumerate(trainloader):\n",
        "            # Transfer Data to GPU if available\n",
        "            data, labels = data.to(device), labels.to(device)\n",
        "\n",
        "            # Clear the gradients\n",
        "            optimizer.zero_grad()\n",
        "\n",
        "            # Make prediction & compute the mini-batch training loss\n",
        "            preds = model(data)\n",
        "            loss = loss_fn(preds, labels.unsqueeze(1))\n",
        "\n",
        "            # Compute the gradients\n",
        "            loss.backward()\n",
        "\n",
        "            # Update Weights\n",
        "            optimizer.step()\n",
        "\n",
        "            # Aggregate mini-batch training losses\n",
        "            train_loss += loss.item()\n",
        "            train_loss_list.append(train_loss)\n",
        "\n",
        "            \n",
        "            if batch == 0 or batch % 10 == 0:\n",
        "                loss, current = loss.item(), (batch+1) * len(data)\n",
        "                print(f\"mini-batch loss for training : {loss:>7f}  [{current:>5d}/{size:>5d}]\")\n",
        "        \n",
        "        # Compute the global training loss as the mean of the mini-batch training losses\n",
        "        train_loss /= len(trainloader)\n",
        "      \n",
        "        model.eval()\n",
        "        valid_loss = 0.0\n",
        "        # Test part : no gradient update\n",
        "        with torch.no_grad():\n",
        "            for batch, (data, labels) in enumerate(validloader):\n",
        "                # Transfer Data to GPU if available\n",
        "                data, labels = data.to(device), labels.to(device)\n",
        "                # Forward Pass & compute the mini-batch validation loss\n",
        "                preds = model(data)\n",
        "                loss = loss_fn(preds,labels.unsqueeze(1))\n",
        "\n",
        "                # Calculate Loss\n",
        "                valid_loss += loss.item()\n",
        "                valid_loss_list.append(valid_loss)\n",
        "\n",
        "                if batch==0 or batch % 10 == 0:\n",
        "                    loss, current = loss.item(), (batch+1) * len(data)\n",
        "                    print(f\"mini-batch loss for validation : {loss:>7f}  [{current:>5d}/{size:>5d}]\")\n",
        "        \n",
        "        # Compute the global validation loss as the mean of the mini-batch validation losses\n",
        "        valid_loss /= len(validloader)\n",
        "\n",
        "        print(f\"Epoch {epoch+1} \\n Training Loss: {train_loss:>7f} \\n Validation Loss: {valid_loss:>7f}\" )\n",
        "\n",
        "    return train_loss_list, valid_loss_list\n"
      ]
    },
    {
      "cell_type": "markdown",
      "metadata": {
        "id": "KFfMqBzKcldY"
      },
      "source": [
        "# Training"
      ]
    },
    {
      "cell_type": "code",
      "execution_count": null,
      "metadata": {
        "colab": {
          "base_uri": "https://localhost:8080/"
        },
        "id": "tECr8i3nuoGM",
        "outputId": "82cd1475-32f4-459f-a4be-9452c773b61e"
      },
      "outputs": [
        {
          "name": "stdout",
          "output_type": "stream",
          "text": [
            "Epoch 1 on mps \n",
            "-------------------------------\n",
            "mini-batch loss for training : 0.688751  [   64/ 5536]\n",
            "mini-batch loss for training : 0.238309  [  704/ 5536]\n",
            "mini-batch loss for training : 0.100315  [ 1344/ 5536]\n",
            "mini-batch loss for training : 0.055533  [ 1984/ 5536]\n",
            "mini-batch loss for training : 0.035146  [ 2624/ 5536]\n",
            "mini-batch loss for training : 0.033834  [ 3264/ 5536]\n",
            "mini-batch loss for training : 0.021570  [ 3904/ 5536]\n",
            "mini-batch loss for training : 0.016549  [ 4544/ 5536]\n",
            "mini-batch loss for training : 0.031210  [ 5184/ 5536]\n",
            "mini-batch loss for training : 0.023273  [ 2784/ 5536]\n",
            "mini-batch loss for validation : 0.026839  [   64/ 5536]\n",
            "mini-batch loss for validation : 0.028523  [  400/ 5536]\n",
            "Epoch 1 \n",
            " Training Loss: 0.099469 \n",
            " Validation Loss: 0.024951\n",
            "Epoch 2 on mps \n",
            "-------------------------------\n",
            "mini-batch loss for training : 0.021280  [   64/ 5536]\n",
            "mini-batch loss for training : 0.015328  [  704/ 5536]\n",
            "mini-batch loss for training : 0.014916  [ 1344/ 5536]\n",
            "mini-batch loss for training : 0.013145  [ 1984/ 5536]\n",
            "mini-batch loss for training : 0.008475  [ 2624/ 5536]\n",
            "mini-batch loss for training : 0.012848  [ 3264/ 5536]\n",
            "mini-batch loss for training : 0.020165  [ 3904/ 5536]\n",
            "mini-batch loss for training : 0.009196  [ 4544/ 5536]\n",
            "mini-batch loss for training : 0.008460  [ 5184/ 5536]\n",
            "mini-batch loss for training : 0.003658  [ 2784/ 5536]\n",
            "mini-batch loss for validation : 0.010541  [   64/ 5536]\n",
            "mini-batch loss for validation : 0.019593  [  400/ 5536]\n",
            "Epoch 2 \n",
            " Training Loss: 0.013231 \n",
            " Validation Loss: 0.013235\n",
            "Epoch 3 on mps \n",
            "-------------------------------\n",
            "mini-batch loss for training : 0.009207  [   64/ 5536]\n",
            "mini-batch loss for training : 0.006286  [  704/ 5536]\n",
            "mini-batch loss for training : 0.007273  [ 1344/ 5536]\n",
            "mini-batch loss for training : 0.005074  [ 1984/ 5536]\n",
            "mini-batch loss for training : 0.005993  [ 2624/ 5536]\n",
            "mini-batch loss for training : 0.004538  [ 3264/ 5536]\n",
            "mini-batch loss for training : 0.006087  [ 3904/ 5536]\n",
            "mini-batch loss for training : 0.004408  [ 4544/ 5536]\n",
            "mini-batch loss for training : 0.004056  [ 5184/ 5536]\n",
            "mini-batch loss for training : 0.006146  [ 2784/ 5536]\n",
            "mini-batch loss for validation : 0.005330  [   64/ 5536]\n",
            "mini-batch loss for validation : 0.013318  [  400/ 5536]\n",
            "Epoch 3 \n",
            " Training Loss: 0.008862 \n",
            " Validation Loss: 0.008451\n"
          ]
        }
      ],
      "source": [
        "loss = nn.BCELoss()\n",
        "train_loss, valid_loss = model_loop(model = resNet50_model,\n",
        "                                    epochs = num_epochs,\n",
        "                                    trainloader = train_dataloader,\n",
        "                                    validloader = val_dataloader,\n",
        "                                    optimizer = optimizer,\n",
        "                                    loss_fn = loss,\n",
        "                                    device = device) "
      ]
    },
    {
      "cell_type": "code",
      "execution_count": null,
      "metadata": {
        "id": "u5IQX8l2RC-4"
      },
      "outputs": [],
      "source": [
        "losses = {'train_loss' : train_loss, 'valid_loss' : valid_loss}\n",
        "import pickle\n",
        "with open(\"losses_resNet50_FaceDetection_VSC.pickle\", \"wb\") as file:\n",
        "    pickle.dump(losses, file)"
      ]
    },
    {
      "cell_type": "code",
      "execution_count": null,
      "metadata": {
        "id": "lpTlf-xIu8WF"
      },
      "outputs": [],
      "source": [
        "def test_accuracy(model, validloader, device):\n",
        "    correct_results_sum = 0\n",
        "    total = len(validloader.dataset)\n",
        "    model.eval()\n",
        "\n",
        "    # test part : no gradient update\n",
        "    with torch.no_grad():\n",
        "        for imgs, labels in validloader :\n",
        "            # Transfer Data to GPU if available\n",
        "            imgs, labels = imgs.to(device), labels.to(device)\n",
        "\n",
        "            # Prediction on unseen data as 0 or 1\n",
        "            outputs = model(imgs)\n",
        "            predicted = torch.round(outputs).squeeze(1)\n",
        "            print(imgs.shape)\n",
        "            # Aggregate and sum the correct predictions for each mini-batch\n",
        "            correct_results_sum += (predicted == labels).sum().float()\n",
        "\n",
        "    # Mean of the mini-batch correct predictions\n",
        "    acc = correct_results_sum / total\n",
        "    acc = torch.round(acc * 100)\n",
        "    print(\"Validation accuracy : {:.2f}\".format(acc))"
      ]
    },
    {
      "cell_type": "code",
      "execution_count": null,
      "metadata": {
        "id": "iZ4-d1M8vUnZ"
      },
      "outputs": [],
      "source": [
        "test_accuracy(resNet50_model, val_dataloader, device)"
      ]
    },
    {
      "cell_type": "code",
      "execution_count": null,
      "metadata": {
        "id": "c0AhVmklAtik"
      },
      "outputs": [],
      "source": [
        "def preprocess_test(img)->torch.Tensor:\n",
        "    transform = torchvision.transforms.Compose([\n",
        "        torchvision.transforms.Resize((256, 256)), \n",
        "        torchvision.transforms.ToTensor(),\n",
        "        torchvision.transforms.Normalize(mean=[0.485, 0.456, 0.406], std=[0.229, 0.224, 0.225])\n",
        "        ])\n",
        "    return transform(img)\n",
        "\n",
        "\n",
        "import glob\n",
        "list_img = glob.glob('/Users/thierryksstentini/Downloads/dataset/test2/*')\n",
        "\n",
        "for k in list_img:\n",
        "    img_PIL = Image.open(k).convert('RGB')\n",
        "    frame_preprocess = preprocess_test(img_PIL)\n",
        "    resNet50_model.to('cpu')\n",
        "    resNet50_model.eval()\n",
        "    with torch.no_grad():\n",
        "        pred = resNet50_model(frame_preprocess.unsqueeze(0))\n",
        "    print(\"Prediction en sortie de sigmoid : \", pred)"
      ]
    },
    {
      "cell_type": "code",
      "execution_count": null,
      "metadata": {
        "id": "V4dzqv0CHPUj"
      },
      "outputs": [],
      "source": [
        "torch.save(resNet50_model.state_dict(), 'weights_resNet50_FaceDetection_VSC.pth')"
      ]
    },
    {
      "cell_type": "code",
      "execution_count": null,
      "metadata": {
        "id": "1LLavxPbv9cW"
      },
      "outputs": [],
      "source": [
        "import matplotlib.pyplot as plt\n",
        "import numpy as np\n",
        "import pickle\n",
        "\n",
        "with open('losses_resNet50_FaceDetection_VSC.pickle', 'rb') as pkl:\n",
        "    losses = pickle.load(pkl)"
      ]
    },
    {
      "cell_type": "code",
      "execution_count": null,
      "metadata": {
        "colab": {
          "base_uri": "https://localhost:8080/",
          "height": 282
        },
        "id": "ldxbH1U1wGgn",
        "outputId": "3ff057c0-59bd-48a5-9462-d9d9ae96645d"
      },
      "outputs": [
        {
          "data": {
            "text/plain": [
              "[<matplotlib.lines.Line2D at 0x159c55ca0>]"
            ]
          },
          "execution_count": 38,
          "metadata": {},
          "output_type": "execute_result"
        },
        {
          "data": {
            "image/png": "[encoded data removed]",
            "text/plain": [
              "<Figure size 432x288 with 1 Axes>"
            ]
          },
          "metadata": {
            "needs_background": "light"
          },
          "output_type": "display_data"
        }
      ],
      "source": [
        "train_loss = losses['train_loss']\n",
        "valid_loss = losses['valid_loss']\n",
        "\n",
        "train_loss_a = np.array(train_loss)\n",
        "#valid_loss_a = np.array(valid_loss)\n",
        "\n",
        "plt.plot(train_loss_a)\n",
        "#plt.plot(valid_loss_a)"
      ]
    }
  ],
  "metadata": {
    "colab": {
      "collapsed_sections": [],
      "name": "Face_detection.ipynb",
      "provenance": []
    },
    "kernelspec": {
      "display_name": "Python 3.9.13 ('base')",
      "language": "python",
      "name": "python3"
    },
    "language_info": {
      "codemirror_mode": {
        "name": "ipython",
        "version": 3
      },
      "file_extension": ".py",
      "mimetype": "text/x-python",
      "name": "python",
      "nbconvert_exporter": "python",
      "pygments_lexer": "ipython3",
      "version": "3.9.13"
    },
    "vscode": {
      "interpreter": {
        "hash": "bfc2e043f4a41bbce066f7921047bdcfe8769546c7198e4df6482fd90de274f1"
      }
    }
  },
  "nbformat": 4,
  "nbformat_minor": 0
}