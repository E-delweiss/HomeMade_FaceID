{
 "cells": [
  {
   "cell_type": "code",
   "execution_count": 1,
   "metadata": {},
   "outputs": [],
   "source": [
    "import cv2\n",
    "\n",
    "import numpy as np\n",
    "import matplotlib.pyplot as plt\n",
    "\n",
    "import torch\n",
    "import torchvision\n",
    "\n",
    "from PIL import Image\n",
    "\n",
    "import time"
   ]
  },
  {
   "cell_type": "code",
   "execution_count": 2,
   "metadata": {},
   "outputs": [],
   "source": [
    "capturing = True\n",
    "FRAME_RATE = 10\n",
    "prev = 0"
   ]
  },
  {
   "cell_type": "code",
   "execution_count": 3,
   "metadata": {},
   "outputs": [],
   "source": [
    "class resNet50_custom(torch.nn.Module):\n",
    "    def __init__(self):\n",
    "        super(resNet50_custom, self).__init__()\n",
    "        self.res50 = torchvision.models.resnet50(pretrained = False, progress = True)\n",
    "        self.res50.fc = torch.nn.Linear(2048, 1)\n",
    "    def forward(self, input):\n",
    "        output = self.res50(input)\n",
    "        return torch.sigmoid(output)"
   ]
  },
  {
   "cell_type": "code",
   "execution_count": 4,
   "metadata": {},
   "outputs": [
    {
     "name": "stderr",
     "output_type": "stream",
     "text": [
      "/Users/thierryksstentini/opt/miniforge3/lib/python3.9/site-packages/torchvision/models/_utils.py:208: UserWarning: The parameter 'pretrained' is deprecated since 0.13 and will be removed in 0.15, please use 'weights' instead.\n",
      "  warnings.warn(\n",
      "/Users/thierryksstentini/opt/miniforge3/lib/python3.9/site-packages/torchvision/models/_utils.py:223: UserWarning: Arguments other than a weight enum or `None` for 'weights' are deprecated since 0.13 and will be removed in 0.15. The current behavior is equivalent to passing `weights=None`.\n",
      "  warnings.warn(msg)\n"
     ]
    }
   ],
   "source": [
    "FaceDetection = resNet50_custom()\n",
    "\n",
    "FaceDetection.load_state_dict(torch.load('/Users/thierryksstentini/Downloads/dataset/weights_resNet50_FaceDetection_VSC.pth'))\n",
    "FaceDetection.to('cpu')\n",
    "FaceDetection.eval();\n"
   ]
  },
  {
   "cell_type": "code",
   "execution_count": 6,
   "metadata": {},
   "outputs": [
    {
     "name": "stdout",
     "output_type": "stream",
     "text": [
      "Prediction en sortie de sigmoid :  tensor([[0.4374]])\n",
      "Prediction en sortie de sigmoid :  tensor([[0.3414]])\n",
      "Prediction en sortie de sigmoid :  tensor([[0.3094]])\n",
      "Prediction en sortie de sigmoid :  tensor([[0.3099]])\n",
      "Prediction en sortie de sigmoid :  tensor([[0.4108]])\n",
      "Prediction en sortie de sigmoid :  tensor([[0.4433]])\n",
      "Prediction en sortie de sigmoid :  tensor([[0.4338]])\n",
      "Prediction en sortie de sigmoid :  tensor([[0.4880]])\n",
      "Prediction en sortie de sigmoid :  tensor([[0.4900]])\n",
      "Prediction en sortie de sigmoid :  tensor([[0.4909]])\n",
      "Prediction en sortie de sigmoid :  tensor([[0.4506]])\n",
      "Prediction en sortie de sigmoid :  tensor([[0.4256]])\n",
      "Prediction en sortie de sigmoid :  tensor([[0.4687]])\n",
      "Prediction en sortie de sigmoid :  tensor([[0.4672]])\n",
      "Prediction en sortie de sigmoid :  tensor([[0.4025]])\n",
      "Prediction en sortie de sigmoid :  tensor([[0.5623]])\n",
      "Prediction en sortie de sigmoid :  tensor([[0.4702]])\n",
      "Prediction en sortie de sigmoid :  tensor([[0.4489]])\n",
      "Prediction en sortie de sigmoid :  tensor([[0.4990]])\n",
      "Prediction en sortie de sigmoid :  tensor([[0.4490]])\n",
      "Prediction en sortie de sigmoid :  tensor([[0.4491]])\n",
      "Prediction en sortie de sigmoid :  tensor([[0.4791]])\n",
      "Prediction en sortie de sigmoid :  tensor([[0.4492]])\n",
      "Prediction en sortie de sigmoid :  tensor([[0.5283]])\n",
      "Prediction en sortie de sigmoid :  tensor([[0.5029]])\n",
      "Prediction en sortie de sigmoid :  tensor([[0.5494]])\n",
      "Prediction en sortie de sigmoid :  tensor([[0.4979]])\n",
      "Prediction en sortie de sigmoid :  tensor([[0.4531]])\n",
      "Prediction en sortie de sigmoid :  tensor([[0.4858]])\n",
      "Prediction en sortie de sigmoid :  tensor([[0.5918]])\n",
      "Prediction en sortie de sigmoid :  tensor([[0.3928]])\n",
      "Prediction en sortie de sigmoid :  tensor([[0.4386]])\n",
      "Prediction en sortie de sigmoid :  tensor([[0.2614]])\n",
      "Prediction en sortie de sigmoid :  tensor([[0.2895]])\n",
      "Prediction en sortie de sigmoid :  tensor([[0.4061]])\n",
      "Prediction en sortie de sigmoid :  tensor([[0.3137]])\n",
      "Prediction en sortie de sigmoid :  tensor([[0.2927]])\n",
      "Prediction en sortie de sigmoid :  tensor([[0.3489]])\n",
      "Prediction en sortie de sigmoid :  tensor([[0.5740]])\n",
      "Prediction en sortie de sigmoid :  tensor([[0.6759]])\n",
      "Prediction en sortie de sigmoid :  tensor([[0.8815]])\n",
      "Prediction en sortie de sigmoid :  tensor([[0.8316]])\n",
      "Prediction en sortie de sigmoid :  tensor([[0.9253]])\n",
      "Prediction en sortie de sigmoid :  tensor([[0.8452]])\n",
      "Prediction en sortie de sigmoid :  tensor([[0.8441]])\n",
      "Prediction en sortie de sigmoid :  tensor([[0.7200]])\n",
      "Prediction en sortie de sigmoid :  tensor([[0.7692]])\n",
      "Prediction en sortie de sigmoid :  tensor([[0.7153]])\n",
      "Prediction en sortie de sigmoid :  tensor([[0.7556]])\n",
      "Prediction en sortie de sigmoid :  tensor([[0.7710]])\n",
      "Prediction en sortie de sigmoid :  tensor([[0.7610]])\n",
      "Prediction en sortie de sigmoid :  tensor([[0.7468]])\n",
      "Prediction en sortie de sigmoid :  tensor([[0.7525]])\n",
      "Prediction en sortie de sigmoid :  tensor([[0.7696]])\n",
      "Prediction en sortie de sigmoid :  tensor([[0.7662]])\n",
      "Prediction en sortie de sigmoid :  tensor([[0.7174]])\n",
      "Prediction en sortie de sigmoid :  tensor([[0.7415]])\n",
      "Prediction en sortie de sigmoid :  tensor([[0.6623]])\n",
      "Prediction en sortie de sigmoid :  tensor([[0.7605]])\n",
      "Prediction en sortie de sigmoid :  tensor([[0.7179]])\n",
      "Prediction en sortie de sigmoid :  tensor([[0.7485]])\n",
      "Prediction en sortie de sigmoid :  tensor([[0.7573]])\n",
      "Prediction en sortie de sigmoid :  tensor([[0.7299]])\n",
      "Prediction en sortie de sigmoid :  tensor([[0.7602]])\n",
      "Prediction en sortie de sigmoid :  tensor([[0.7794]])\n",
      "Prediction en sortie de sigmoid :  tensor([[0.7551]])\n",
      "Prediction en sortie de sigmoid :  tensor([[0.7218]])\n",
      "Prediction en sortie de sigmoid :  tensor([[0.7339]])\n",
      "Prediction en sortie de sigmoid :  tensor([[0.6992]])\n",
      "Prediction en sortie de sigmoid :  tensor([[0.5806]])\n",
      "Prediction en sortie de sigmoid :  tensor([[0.4383]])\n",
      "Prediction en sortie de sigmoid :  tensor([[0.3728]])\n",
      "Prediction en sortie de sigmoid :  tensor([[0.3290]])\n",
      "Prediction en sortie de sigmoid :  tensor([[0.4142]])\n",
      "Prediction en sortie de sigmoid :  tensor([[0.3360]])\n",
      "Prediction en sortie de sigmoid :  tensor([[0.4145]])\n",
      "Prediction en sortie de sigmoid :  tensor([[0.4537]])\n",
      "Prediction en sortie de sigmoid :  tensor([[0.4193]])\n",
      "Prediction en sortie de sigmoid :  tensor([[0.3846]])\n",
      "Prediction en sortie de sigmoid :  tensor([[0.3943]])\n",
      "Prediction en sortie de sigmoid :  tensor([[0.4520]])\n",
      "Prediction en sortie de sigmoid :  tensor([[0.3626]])\n",
      "Prediction en sortie de sigmoid :  tensor([[0.3240]])\n",
      "Prediction en sortie de sigmoid :  tensor([[0.3417]])\n",
      "Prediction en sortie de sigmoid :  tensor([[0.3347]])\n",
      "Prediction en sortie de sigmoid :  tensor([[0.3591]])\n",
      "Prediction en sortie de sigmoid :  tensor([[0.5274]])\n",
      "Prediction en sortie de sigmoid :  tensor([[0.3179]])\n",
      "Prediction en sortie de sigmoid :  tensor([[0.5573]])\n",
      "Prediction en sortie de sigmoid :  tensor([[0.8076]])\n",
      "Prediction en sortie de sigmoid :  tensor([[0.7957]])\n",
      "Prediction en sortie de sigmoid :  tensor([[0.6565]])\n",
      "Prediction en sortie de sigmoid :  tensor([[0.6050]])\n",
      "Prediction en sortie de sigmoid :  tensor([[0.6538]])\n",
      "Prediction en sortie de sigmoid :  tensor([[0.6796]])\n",
      "Prediction en sortie de sigmoid :  tensor([[0.6807]])\n",
      "Prediction en sortie de sigmoid :  tensor([[0.5713]])\n",
      "Prediction en sortie de sigmoid :  tensor([[0.5629]])\n",
      "Prediction en sortie de sigmoid :  tensor([[0.6258]])\n",
      "Prediction en sortie de sigmoid :  tensor([[0.6080]])\n",
      "Prediction en sortie de sigmoid :  tensor([[0.7637]])\n"
     ]
    }
   ],
   "source": [
    "def preprocess(img_array):\n",
    "    preprocessor = torchvision.transforms.Compose([\n",
    "        torchvision.transforms.ToPILImage(),\n",
    "        torchvision.transforms.Resize((256,256)),\n",
    "        torchvision.transforms.ToTensor(),\n",
    "        torchvision.transforms.CenterCrop((224,224)),\n",
    "        torchvision.transforms.Normalize(\n",
    "            mean=[0.485, 0.456, 0.406], \n",
    "            std=[0.229, 0.224, 0.225])\n",
    "            ])\n",
    "    \n",
    "    return preprocessor(img_array)\n",
    "count = 0\n",
    "vid = cv2.VideoCapture(0)\n",
    "while(capturing):\n",
    "    # Capture the video frame by frame\n",
    "    time_elapsed = time.time() - prev\n",
    "    ret, frame_instant = vid.read()\n",
    "    \n",
    "    if time_elapsed > 1./FRAME_RATE:\n",
    "        prev = time.time()\n",
    "        #img_PIL = Image.fromarray(np.uint8(frame_instant)).convert('RGB')\n",
    "        count += 1\n",
    "        frame_preprocess = preprocess(frame_instant)\n",
    "        FaceDetection.eval()\n",
    "        with torch.no_grad():\n",
    "            pred = FaceDetection(frame_preprocess.unsqueeze(0))\n",
    "        print(\"Prediction en sortie de sigmoid : \", pred)\n",
    "\n",
    "        if count > 100:\n",
    "            break\n",
    "\n",
    "\n"
   ]
  },
  {
   "cell_type": "code",
   "execution_count": 7,
   "metadata": {},
   "outputs": [],
   "source": [
    "# After the loop release the cap object\n",
    "vid.release()\n",
    "# Destroy all the windows\n",
    "cv2.destroyAllWindows()\n",
    "\n",
    "end = time.time()"
   ]
  },
  {
   "cell_type": "code",
   "execution_count": null,
   "metadata": {},
   "outputs": [],
   "source": []
  }
 ],
 "metadata": {
  "kernelspec": {
   "display_name": "Python 3.9.13 ('base')",
   "language": "python",
   "name": "python3"
  },
  "language_info": {
   "codemirror_mode": {
    "name": "ipython",
    "version": 3
   },
   "file_extension": ".py",
   "mimetype": "text/x-python",
   "name": "python",
   "nbconvert_exporter": "python",
   "pygments_lexer": "ipython3",
   "version": "3.9.13"
  },
  "orig_nbformat": 4,
  "vscode": {
   "interpreter": {
    "hash": "bfc2e043f4a41bbce066f7921047bdcfe8769546c7198e4df6482fd90de274f1"
   }
  }
 },
 "nbformat": 4,
 "nbformat_minor": 2
}
