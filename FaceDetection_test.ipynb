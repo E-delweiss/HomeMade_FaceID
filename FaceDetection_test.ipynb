{
 "cells": [
  {
   "cell_type": "code",
   "execution_count": 42,
   "metadata": {},
   "outputs": [],
   "source": [
    "import cv2\n",
    "\n",
    "import numpy as np\n",
    "import matplotlib.pyplot as plt\n",
    "\n",
    "import torch\n",
    "import torchvision\n",
    "\n",
    "from PIL import Image\n",
    "\n",
    "import time"
   ]
  },
  {
   "cell_type": "code",
   "execution_count": 43,
   "metadata": {},
   "outputs": [],
   "source": [
    "capturing = True\n",
    "FRAME_RATE = 10\n",
    "prev = 0"
   ]
  },
  {
   "cell_type": "code",
   "execution_count": 68,
   "metadata": {},
   "outputs": [],
   "source": [
    "class resNet50_custom(torch.nn.Module):\n",
    "    def __init__(self):\n",
    "        super(resNet50_custom, self).__init__()\n",
    "        self.res50 = torchvision.models.resnet50(pretrained = False, progress = True)\n",
    "        self.res50.fc = torch.nn.Linear(2048, 1)\n",
    "    def forward(self, input):\n",
    "        output = self.res50(input)\n",
    "        return torch.sigmoid(output)"
   ]
  },
  {
   "cell_type": "code",
   "execution_count": 69,
   "metadata": {},
   "outputs": [
    {
     "name": "stderr",
     "output_type": "stream",
     "text": [
      "/Users/thierryksstentini/opt/miniforge3/lib/python3.9/site-packages/torchvision/models/_utils.py:208: UserWarning: The parameter 'pretrained' is deprecated since 0.13 and will be removed in 0.15, please use 'weights' instead.\n",
      "  warnings.warn(\n",
      "/Users/thierryksstentini/opt/miniforge3/lib/python3.9/site-packages/torchvision/models/_utils.py:223: UserWarning: Arguments other than a weight enum or `None` for 'weights' are deprecated since 0.13 and will be removed in 0.15. The current behavior is equivalent to passing `weights=None`.\n",
      "  warnings.warn(msg)\n"
     ]
    }
   ],
   "source": [
    "FaceDetection = resNet50_custom()\n",
    "\n",
    "FaceDetection.load_state_dict(torch.load('weights_resNet50_FaceDetection_VSC.pth'))\n",
    "FaceDetection.to('cpu')\n",
    "FaceDetection.eval();\n"
   ]
  },
  {
   "cell_type": "code",
   "execution_count": 75,
   "metadata": {},
   "outputs": [
    {
     "name": "stdout",
     "output_type": "stream",
     "text": [
      "Prediction en sortie de sigmoid :  tensor([[0.8799]])\n",
      "Prediction en sortie de sigmoid :  tensor([[0.8713]])\n",
      "Prediction en sortie de sigmoid :  tensor([[0.8821]])\n",
      "Prediction en sortie de sigmoid :  tensor([[0.8563]])\n",
      "Prediction en sortie de sigmoid :  tensor([[0.8974]])\n",
      "Prediction en sortie de sigmoid :  tensor([[0.8411]])\n",
      "Prediction en sortie de sigmoid :  tensor([[0.8461]])\n",
      "Prediction en sortie de sigmoid :  tensor([[0.8640]])\n",
      "Prediction en sortie de sigmoid :  tensor([[0.5459]])\n",
      "Prediction en sortie de sigmoid :  tensor([[0.6006]])\n",
      "Prediction en sortie de sigmoid :  tensor([[0.8828]])\n",
      "Prediction en sortie de sigmoid :  tensor([[0.8675]])\n",
      "Prediction en sortie de sigmoid :  tensor([[0.6912]])\n",
      "Prediction en sortie de sigmoid :  tensor([[0.7630]])\n",
      "Prediction en sortie de sigmoid :  tensor([[0.8024]])\n",
      "Prediction en sortie de sigmoid :  tensor([[0.7982]])\n",
      "Prediction en sortie de sigmoid :  tensor([[0.8695]])\n",
      "Prediction en sortie de sigmoid :  tensor([[0.8220]])\n",
      "Prediction en sortie de sigmoid :  tensor([[0.6754]])\n",
      "Prediction en sortie de sigmoid :  tensor([[0.7473]])\n",
      "Prediction en sortie de sigmoid :  tensor([[0.7510]])\n",
      "Prediction en sortie de sigmoid :  tensor([[0.6865]])\n",
      "Prediction en sortie de sigmoid :  tensor([[0.7673]])\n",
      "Prediction en sortie de sigmoid :  tensor([[0.6674]])\n",
      "Prediction en sortie de sigmoid :  tensor([[0.6914]])\n",
      "Prediction en sortie de sigmoid :  tensor([[0.8322]])\n",
      "Prediction en sortie de sigmoid :  tensor([[0.7757]])\n",
      "Prediction en sortie de sigmoid :  tensor([[0.7999]])\n",
      "Prediction en sortie de sigmoid :  tensor([[0.6812]])\n",
      "Prediction en sortie de sigmoid :  tensor([[0.7641]])\n",
      "Prediction en sortie de sigmoid :  tensor([[0.8636]])\n",
      "Prediction en sortie de sigmoid :  tensor([[0.8242]])\n",
      "Prediction en sortie de sigmoid :  tensor([[0.5718]])\n",
      "Prediction en sortie de sigmoid :  tensor([[0.7116]])\n",
      "Prediction en sortie de sigmoid :  tensor([[0.7051]])\n",
      "Prediction en sortie de sigmoid :  tensor([[0.7642]])\n",
      "Prediction en sortie de sigmoid :  tensor([[0.8288]])\n",
      "Prediction en sortie de sigmoid :  tensor([[0.6814]])\n",
      "Prediction en sortie de sigmoid :  tensor([[0.8265]])\n",
      "Prediction en sortie de sigmoid :  tensor([[0.6879]])\n",
      "Prediction en sortie de sigmoid :  tensor([[0.7598]])\n",
      "Prediction en sortie de sigmoid :  tensor([[0.8083]])\n",
      "Prediction en sortie de sigmoid :  tensor([[0.7857]])\n",
      "Prediction en sortie de sigmoid :  tensor([[0.7881]])\n",
      "Prediction en sortie de sigmoid :  tensor([[0.7196]])\n",
      "Prediction en sortie de sigmoid :  tensor([[0.7729]])\n",
      "Prediction en sortie de sigmoid :  tensor([[0.7564]])\n",
      "Prediction en sortie de sigmoid :  tensor([[0.7920]])\n",
      "Prediction en sortie de sigmoid :  tensor([[0.7382]])\n",
      "Prediction en sortie de sigmoid :  tensor([[0.8395]])\n",
      "Prediction en sortie de sigmoid :  tensor([[0.6981]])\n",
      "Prediction en sortie de sigmoid :  tensor([[0.8221]])\n",
      "Prediction en sortie de sigmoid :  tensor([[0.8806]])\n",
      "Prediction en sortie de sigmoid :  tensor([[0.7777]])\n",
      "Prediction en sortie de sigmoid :  tensor([[0.5990]])\n",
      "Prediction en sortie de sigmoid :  tensor([[0.5372]])\n",
      "Prediction en sortie de sigmoid :  tensor([[0.5635]])\n",
      "Prediction en sortie de sigmoid :  tensor([[0.6686]])\n",
      "Prediction en sortie de sigmoid :  tensor([[0.7238]])\n",
      "Prediction en sortie de sigmoid :  tensor([[0.7159]])\n",
      "Prediction en sortie de sigmoid :  tensor([[0.6285]])\n",
      "Prediction en sortie de sigmoid :  tensor([[0.7175]])\n",
      "Prediction en sortie de sigmoid :  tensor([[0.5816]])\n",
      "Prediction en sortie de sigmoid :  tensor([[0.6857]])\n",
      "Prediction en sortie de sigmoid :  tensor([[0.7233]])\n",
      "Prediction en sortie de sigmoid :  tensor([[0.5959]])\n",
      "Prediction en sortie de sigmoid :  tensor([[0.7509]])\n",
      "Prediction en sortie de sigmoid :  tensor([[0.6178]])\n",
      "Prediction en sortie de sigmoid :  tensor([[0.6543]])\n",
      "Prediction en sortie de sigmoid :  tensor([[0.5865]])\n",
      "Prediction en sortie de sigmoid :  tensor([[0.6596]])\n",
      "Prediction en sortie de sigmoid :  tensor([[0.7149]])\n",
      "Prediction en sortie de sigmoid :  tensor([[0.6317]])\n",
      "Prediction en sortie de sigmoid :  tensor([[0.5553]])\n",
      "Prediction en sortie de sigmoid :  tensor([[0.5664]])\n",
      "Prediction en sortie de sigmoid :  tensor([[0.4362]])\n",
      "Prediction en sortie de sigmoid :  tensor([[0.6203]])\n",
      "Prediction en sortie de sigmoid :  tensor([[0.6614]])\n",
      "Prediction en sortie de sigmoid :  tensor([[0.7155]])\n",
      "Prediction en sortie de sigmoid :  tensor([[0.6071]])\n",
      "Prediction en sortie de sigmoid :  tensor([[0.6861]])\n",
      "Prediction en sortie de sigmoid :  tensor([[0.7077]])\n",
      "Prediction en sortie de sigmoid :  tensor([[0.6370]])\n",
      "Prediction en sortie de sigmoid :  tensor([[0.6734]])\n",
      "Prediction en sortie de sigmoid :  tensor([[0.6142]])\n",
      "Prediction en sortie de sigmoid :  tensor([[0.5404]])\n",
      "Prediction en sortie de sigmoid :  tensor([[0.8023]])\n",
      "Prediction en sortie de sigmoid :  tensor([[0.6413]])\n",
      "Prediction en sortie de sigmoid :  tensor([[0.6790]])\n",
      "Prediction en sortie de sigmoid :  tensor([[0.6133]])\n",
      "Prediction en sortie de sigmoid :  tensor([[0.7768]])\n",
      "Prediction en sortie de sigmoid :  tensor([[0.6853]])\n",
      "Prediction en sortie de sigmoid :  tensor([[0.6118]])\n",
      "Prediction en sortie de sigmoid :  tensor([[0.6695]])\n",
      "Prediction en sortie de sigmoid :  tensor([[0.7039]])\n",
      "Prediction en sortie de sigmoid :  tensor([[0.6577]])\n",
      "Prediction en sortie de sigmoid :  tensor([[0.6234]])\n",
      "Prediction en sortie de sigmoid :  tensor([[0.6645]])\n",
      "Prediction en sortie de sigmoid :  tensor([[0.5419]])\n",
      "Prediction en sortie de sigmoid :  tensor([[0.6668]])\n",
      "Prediction en sortie de sigmoid :  tensor([[0.7367]])\n"
     ]
    }
   ],
   "source": [
    "def preprocess(img_array):\n",
    "    preprocessor = torchvision.transforms.Compose([\n",
    "        torchvision.transforms.ToPILImage(),\n",
    "        torchvision.transforms.Resize((256,256)),\n",
    "        torchvision.transforms.ToTensor(),\n",
    "        torchvision.transforms.Normalize(\n",
    "            mean=[0.485, 0.456, 0.406], \n",
    "            std=[0.229, 0.224, 0.225])\n",
    "            ])\n",
    "    \n",
    "    return preprocessor(img_array)\n",
    "count = 0\n",
    "vid = cv2.VideoCapture(0)\n",
    "while(capturing):\n",
    "    # Capture the video frame by frame\n",
    "    time_elapsed = time.time() - prev\n",
    "    ret, frame_instant = vid.read()\n",
    "    \n",
    "    if time_elapsed > 1./FRAME_RATE:\n",
    "        prev = time.time()\n",
    "        #img_PIL = Image.fromarray(np.uint8(frame_instant)).convert('RGB')\n",
    "        count += 1\n",
    "        frame_preprocess = preprocess(frame_instant)\n",
    "        FaceDetection.eval()\n",
    "        with torch.no_grad():\n",
    "            pred = FaceDetection(frame_preprocess.unsqueeze(0))\n",
    "        print(\"Prediction en sortie de sigmoid : \", pred)\n",
    "\n",
    "        if count > 100:\n",
    "            break\n",
    "\n",
    "\n"
   ]
  },
  {
   "cell_type": "code",
   "execution_count": 71,
   "metadata": {},
   "outputs": [],
   "source": [
    "# After the loop release the cap object\n",
    "vid.release()\n",
    "# Destroy all the windows\n",
    "cv2.destroyAllWindows()\n",
    "\n",
    "end = time.time()"
   ]
  },
  {
   "cell_type": "code",
   "execution_count": null,
   "metadata": {},
   "outputs": [],
   "source": []
  }
 ],
 "metadata": {
  "kernelspec": {
   "display_name": "Python 3.9.13 ('base')",
   "language": "python",
   "name": "python3"
  },
  "language_info": {
   "codemirror_mode": {
    "name": "ipython",
    "version": 3
   },
   "file_extension": ".py",
   "mimetype": "text/x-python",
   "name": "python",
   "nbconvert_exporter": "python",
   "pygments_lexer": "ipython3",
   "version": "3.9.13"
  },
  "orig_nbformat": 4,
  "vscode": {
   "interpreter": {
    "hash": "bfc2e043f4a41bbce066f7921047bdcfe8769546c7198e4df6482fd90de274f1"
   }
  }
 },
 "nbformat": 4,
 "nbformat_minor": 2
}
